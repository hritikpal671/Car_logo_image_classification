{
  "nbformat": 4,
  "nbformat_minor": 0,
  "metadata": {
    "colab": {
      "provenance": [],
      "gpuType": "T4"
    },
    "kernelspec": {
      "name": "python3",
      "display_name": "Python 3"
    },
    "language_info": {
      "name": "python"
    },
    "accelerator": "GPU"
  },
  "cells": [
    {
      "cell_type": "markdown",
      "source": [
        "# CAR LOGO IMAGE CLASSIFICATION PROJECT"
      ],
      "metadata": {
        "id": "r_diJ3AyN_qo"
      }
    },
    {
      "cell_type": "code",
      "execution_count": 2,
      "metadata": {
        "id": "3Xci6VKWiZea"
      },
      "outputs": [],
      "source": [
        "\n",
        "#importing important libraries for the project\n",
        "import matplotlib.pyplot as plt\n",
        "import numpy as np\n",
        "import PIL\n",
        "import tensorflow as tf\n",
        "\n",
        "from tensorflow import keras\n",
        "from tensorflow.keras import layers\n",
        "from tensorflow.keras.models import Sequential\n",
        "from keras.layers import Flatten,Activation,Dense"
      ]
    },
    {
      "cell_type": "code",
      "source": [
        "#installing patool library for unzipping the dataset\n",
        "pip install patool"
      ],
      "metadata": {
        "colab": {
          "base_uri": "https://localhost:8080/"
        },
        "id": "yCIP6NpBihei",
        "outputId": "4f700575-ea9c-4a73-bf7c-8079ec718382"
      },
      "execution_count": 3,
      "outputs": [
        {
          "output_type": "stream",
          "name": "stdout",
          "text": [
            "Collecting patool\n",
            "  Downloading patool-1.12-py2.py3-none-any.whl (77 kB)\n",
            "\u001b[2K     \u001b[90m━━━━━━━━━━━━━━━━━━━━━━━━━━━━━━━━━━━━━━━━\u001b[0m \u001b[32m77.5/77.5 kB\u001b[0m \u001b[31m2.4 MB/s\u001b[0m eta \u001b[36m0:00:00\u001b[0m\n",
            "\u001b[?25hInstalling collected packages: patool\n",
            "Successfully installed patool-1.12\n"
          ]
        }
      ]
    },
    {
      "cell_type": "code",
      "source": [
        "#importing patoolib library\n",
        "import patoolib\n"
      ],
      "metadata": {
        "id": "va-4hGdQileV"
      },
      "execution_count": 4,
      "outputs": []
    },
    {
      "cell_type": "code",
      "source": [
        "#defining the path of dataset and its files\n",
        "path=\"/content/dataset\""
      ],
      "metadata": {
        "id": "eyePGRGpioMV"
      },
      "execution_count": 5,
      "outputs": []
    },
   
    {
      "cell_type": "code",
      "source": [
        "# unzipping the dataset.zip file\n",
        "patoolib.extract_archive(\"/content/dataset.zip\")"
      ],
      "metadata": {
        "colab": {
          "base_uri": "https://localhost:8080/",
          "height": 88
        },
        "id": "dTjUxC6KitUj",
        "outputId": "7fc0e888-71e9-4dec-d7bb-cb128a36e5b3"
      },
      "execution_count": 6,
      "outputs": [
        {
          "output_type": "stream",
          "name": "stdout",
          "text": [
            "patool: Extracting /content/dataset.zip ...\n",
            "patool: running /usr/bin/7z x -o./Unpack_5575hmes -- /content/dataset.zip\n",
            "patool: ... /content/dataset.zip extracted to `dataset'.\n"
          ]
        },
        {
          "output_type": "execute_result",
          "data": {
            "text/plain": [
              "'dataset'"
            ],
            "application/vnd.google.colaboratory.intrinsic+json": {
              "type": "string"
            }
          },
          "metadata": {},
          "execution_count": 6
        }
      ]
    },
    {
      "cell_type": "code",
      "source": [
        "\n",
        "batch_size=32\n",
        "img_height=224\n",
        "img_width=224"
      ],
      "metadata": {
        "id": "Jb2K1EfJjIK-"
      },
      "execution_count": 3,
      "outputs": []
    },
    {
      "cell_type": "code",
      "source": [
        "\n",
        "# Data preprocessing using ImageDataGenerator which helps in Image Augmentation\n",
        "from tensorflow.keras.preprocessing.image import ImageDataGenerator\n",
        "\n",
        "train_datagen = ImageDataGenerator(rescale = 1./255,\n",
        "                                   shear_range = 0.3,\n",
        "                                   zoom_range = 0.3,\n",
        "                                   horizontal_flip = True,\n",
        "                                   vertical_flip=True)\n",
        "\n",
        "test_datagen = ImageDataGenerator(rescale = 1./255)"
      ],
      "metadata": {
        "id": "XIJOSm3hjn_T"
      },
      "execution_count": 6,
      "outputs": []
    },
    {
      "cell_type": "code",
      "source": [
        "#preparing training dataset\n",
        "\n",
        "training_set = train_datagen.flow_from_directory('/content/dataset',\n",
        "                                                 target_size = (224, 224),\n",
        "                                                 batch_size = 32,\n",
        "                                                 class_mode = 'categorical')"
      ],
      "metadata": {
        "colab": {
          "base_uri": "https://localhost:8080/"
        },
        "id": "20NJxX42jpyu",
        "outputId": "cc27af05-215e-4e2c-9e90-38bb5ecca7e2"
      },
      "execution_count": 7,
      "outputs": [
        {
          "output_type": "stream",
          "name": "stdout",
          "text": [
            "Found 3747 images belonging to 28 classes.\n"
          ]
        }
      ]
    },
    {
      "cell_type": "code",
      "source": [
        "#preparing validation dataset\n",
        "\n",
        "test_set = test_datagen.flow_from_directory('/content/dataset',\n",
        "                                            target_size = (224, 224),\n",
        "                                            batch_size = 32,\n",
        "                                            class_mode = 'categorical')"
      ],
      "metadata": {
        "colab": {
          "base_uri": "https://localhost:8080/"
        },
        "id": "OrCqKzBojrgz",
        "outputId": "9b32bd45-2bcf-4f71-8b58-12fa48b2c665"
      },
      "execution_count": 8,
      "outputs": [
        {
          "output_type": "stream",
          "name": "stdout",
          "text": [
            "Found 3747 images belonging to 28 classes.\n"
          ]
        }
      ]
    },
    {
      "cell_type": "code",
      "source": [
        " #importing important libraries\n",
        "  from tensorflow.keras.applications import ResNet50, VGG16, InceptionV3\n",
        "  from tensorflow.keras.optimizers import Adam\n",
        "  from sklearn.metrics import accuracy_score, precision_score, recall_score\n",
        "  from tensorflow.keras.models import Model"
      ],
      "metadata": {
        "id": "pzoLvDNZlvVd"
      },
      "execution_count": 9,
      "outputs": []
    },
    {
      "cell_type": "code",
      "source": [
        "#Hyperparameter tunning for chosing best CNN architecture\n",
        "\n",
        "from sklearn.metrics import classification_report\n",
        "\n",
        "\n",
        "\n",
        "# List of pre-trained models\n",
        "pretrained_models = [ResNet50,VGG16, InceptionV3]\n",
        "\n",
        "# Hyperparameters to tune\n",
        "hyperparameters = {\n",
        "    'batch_size': [32],\n",
        "    'epochs': [50],\n",
        "    'learning_rate': [0.001],\n",
        "}\n",
        "\n",
        "best_accuracy = 0.0\n",
        "best_params = {}\n",
        "best_model = None\n",
        "\n",
        "for model_class in pretrained_models:\n",
        "    for bs in hyperparameters['batch_size']:\n",
        "        for epochs in hyperparameters['epochs']:\n",
        "            for lr in hyperparameters['learning_rate']:\n",
        "                # Load pre-trained model\n",
        "                base_model = model_class(weights='imagenet', include_top=False, input_shape=(224, 224, 3))\n",
        "\n",
        "                # Add custom layers for fine-tuning\n",
        "                x = base_model.output\n",
        "                x = Flatten()(x)\n",
        "                x = Dense(256, activation='relu')(x)\n",
        "                predictions = Dense(28, activation='softmax')(x)\n",
        "\n",
        "                model = Model(inputs=base_model.input, outputs=predictions)\n",
        "\n",
        "                # Freeze initial layers\n",
        "                for layer in base_model.layers:\n",
        "                    layer.trainable = False\n",
        "\n",
        "                model.compile(optimizer=Adam(lr=lr), loss='categorical_crossentropy', metrics=['accuracy'])\n",
        "\n",
        "                # Train the model with data augmentation\n",
        "                history = model.fit(training_set,\n",
        "                                    epochs=epochs,\n",
        "                                    validation_data=(test_set))\n",
        "\n",
        "                # Evaluate on validation set\n",
        "                val_accuracy = history.history['val_accuracy'][-1]\n",
        "\n",
        "                print(f\"Model: {model_class.__name__}, Batch Size: {bs}, Epochs: {epochs}, Learning Rate: {lr}, Validation Accuracy: {val_accuracy}\")\n",
        "\n",
        "                if val_accuracy > best_accuracy:\n",
        "                    best_accuracy = val_accuracy\n",
        "                    best_params = {'batch_size': bs, 'epochs': epochs, 'learning_rate': lr}\n",
        "                    best_model = model_class\n",
        "\n",
        "# Train the final best model\n",
        "base_model = best_model(weights='imagenet', include_top=False, input_shape=(224, 224, 3))\n",
        "# ... (rest of the code remains similar to the previous examples)\n"
      ],
      "metadata": {
        "colab": {
          "base_uri": "https://localhost:8080/"
        },
        "id": "u_TETXd0j-Ux",
        "outputId": "d222b7e6-12ce-4ab7-a944-d39b60ef4d74"
      },
      "execution_count": 73,
      "outputs": [
        {
          "output_type": "stream",
          "name": "stderr",
          "text": [
            "WARNING:absl:`lr` is deprecated in Keras optimizer, please use `learning_rate` or use the legacy optimizer, e.g.,tf.keras.optimizers.legacy.Adam.\n"
          ]
        },
        {
          "output_type": "stream",
          "name": "stdout",
          "text": [
            "Epoch 1/50\n",
            "118/118 [==============================] - 62s 492ms/step - loss: 4.9632 - accuracy: 0.0558 - val_loss: 3.1923 - val_accuracy: 0.0881\n",
            "Epoch 2/50\n",
            "118/118 [==============================] - 58s 492ms/step - loss: 3.2229 - accuracy: 0.0894 - val_loss: 3.0847 - val_accuracy: 0.1180\n",
            "Epoch 3/50\n",
            "118/118 [==============================] - 58s 488ms/step - loss: 3.0918 - accuracy: 0.1161 - val_loss: 2.9726 - val_accuracy: 0.1425\n",
            "Epoch 4/50\n",
            "118/118 [==============================] - 56s 478ms/step - loss: 3.0499 - accuracy: 0.1278 - val_loss: 2.9913 - val_accuracy: 0.1420\n",
            "Epoch 5/50\n",
            "118/118 [==============================] - 57s 488ms/step - loss: 2.9468 - accuracy: 0.1489 - val_loss: 2.8117 - val_accuracy: 0.2026\n",
            "Epoch 6/50\n",
            "118/118 [==============================] - 57s 485ms/step - loss: 2.8242 - accuracy: 0.1772 - val_loss: 2.6946 - val_accuracy: 0.2055\n",
            "Epoch 7/50\n",
            "118/118 [==============================] - 57s 478ms/step - loss: 2.7446 - accuracy: 0.1898 - val_loss: 2.6044 - val_accuracy: 0.1948\n",
            "Epoch 8/50\n",
            "118/118 [==============================] - 57s 485ms/step - loss: 2.6822 - accuracy: 0.2042 - val_loss: 2.4601 - val_accuracy: 0.2613\n",
            "Epoch 9/50\n",
            "118/118 [==============================] - 56s 475ms/step - loss: 2.5692 - accuracy: 0.2298 - val_loss: 2.4475 - val_accuracy: 0.2741\n",
            "Epoch 10/50\n",
            "118/118 [==============================] - 56s 476ms/step - loss: 2.4616 - accuracy: 0.2543 - val_loss: 2.2461 - val_accuracy: 0.3189\n",
            "Epoch 11/50\n",
            "118/118 [==============================] - 58s 489ms/step - loss: 2.4099 - accuracy: 0.2792 - val_loss: 2.2814 - val_accuracy: 0.3077\n",
            "Epoch 12/50\n",
            "118/118 [==============================] - 57s 482ms/step - loss: 2.3360 - accuracy: 0.2941 - val_loss: 2.1793 - val_accuracy: 0.3253\n",
            "Epoch 13/50\n",
            "118/118 [==============================] - 58s 490ms/step - loss: 2.1867 - accuracy: 0.3309 - val_loss: 1.9095 - val_accuracy: 0.4078\n",
            "Epoch 14/50\n",
            "118/118 [==============================] - 65s 551ms/step - loss: 2.1293 - accuracy: 0.3365 - val_loss: 1.9130 - val_accuracy: 0.3902\n",
            "Epoch 15/50\n",
            "118/118 [==============================] - 56s 474ms/step - loss: 2.0351 - accuracy: 0.3606 - val_loss: 1.8947 - val_accuracy: 0.3942\n",
            "Epoch 16/50\n",
            "118/118 [==============================] - 56s 476ms/step - loss: 1.9425 - accuracy: 0.3875 - val_loss: 1.6937 - val_accuracy: 0.4694\n",
            "Epoch 17/50\n",
            "118/118 [==============================] - 58s 488ms/step - loss: 1.9007 - accuracy: 0.3928 - val_loss: 1.6777 - val_accuracy: 0.4721\n",
            "Epoch 18/50\n",
            "118/118 [==============================] - 57s 484ms/step - loss: 1.8754 - accuracy: 0.4065 - val_loss: 1.6987 - val_accuracy: 0.4556\n",
            "Epoch 19/50\n",
            "118/118 [==============================] - 58s 488ms/step - loss: 1.8671 - accuracy: 0.4083 - val_loss: 1.7266 - val_accuracy: 0.4582\n",
            "Epoch 20/50\n",
            "118/118 [==============================] - 58s 492ms/step - loss: 1.7778 - accuracy: 0.4201 - val_loss: 1.5769 - val_accuracy: 0.5081\n",
            "Epoch 21/50\n",
            "118/118 [==============================] - 57s 486ms/step - loss: 1.7632 - accuracy: 0.4331 - val_loss: 1.7361 - val_accuracy: 0.4516\n",
            "Epoch 22/50\n",
            "118/118 [==============================] - 57s 484ms/step - loss: 1.7749 - accuracy: 0.4433 - val_loss: 1.6437 - val_accuracy: 0.4809\n",
            "Epoch 23/50\n",
            "118/118 [==============================] - 58s 489ms/step - loss: 1.7086 - accuracy: 0.4646 - val_loss: 1.5606 - val_accuracy: 0.5143\n",
            "Epoch 24/50\n",
            "118/118 [==============================] - 57s 481ms/step - loss: 1.7200 - accuracy: 0.4529 - val_loss: 1.4705 - val_accuracy: 0.5306\n",
            "Epoch 25/50\n",
            "118/118 [==============================] - 58s 494ms/step - loss: 1.7107 - accuracy: 0.4582 - val_loss: 1.5653 - val_accuracy: 0.4956\n",
            "Epoch 26/50\n",
            "118/118 [==============================] - 58s 495ms/step - loss: 1.6904 - accuracy: 0.4737 - val_loss: 1.4733 - val_accuracy: 0.5292\n",
            "Epoch 27/50\n",
            "118/118 [==============================] - 58s 491ms/step - loss: 1.7138 - accuracy: 0.4465 - val_loss: 1.4568 - val_accuracy: 0.5338\n",
            "Epoch 28/50\n",
            "118/118 [==============================] - 58s 489ms/step - loss: 1.6189 - accuracy: 0.4820 - val_loss: 1.5052 - val_accuracy: 0.5276\n",
            "Epoch 29/50\n",
            "118/118 [==============================] - 58s 488ms/step - loss: 1.6502 - accuracy: 0.4796 - val_loss: 1.4982 - val_accuracy: 0.5327\n",
            "Epoch 30/50\n",
            "118/118 [==============================] - 56s 476ms/step - loss: 1.5972 - accuracy: 0.4980 - val_loss: 1.4260 - val_accuracy: 0.5498\n",
            "Epoch 31/50\n",
            "118/118 [==============================] - 58s 495ms/step - loss: 1.6041 - accuracy: 0.4948 - val_loss: 1.4075 - val_accuracy: 0.5618\n",
            "Epoch 32/50\n",
            "118/118 [==============================] - 57s 483ms/step - loss: 1.5866 - accuracy: 0.5017 - val_loss: 1.4449 - val_accuracy: 0.5428\n",
            "Epoch 33/50\n",
            "118/118 [==============================] - 57s 480ms/step - loss: 1.5069 - accuracy: 0.5311 - val_loss: 1.3781 - val_accuracy: 0.5604\n",
            "Epoch 34/50\n",
            "118/118 [==============================] - 57s 487ms/step - loss: 1.5809 - accuracy: 0.5028 - val_loss: 1.4397 - val_accuracy: 0.5420\n",
            "Epoch 35/50\n",
            "118/118 [==============================] - 58s 490ms/step - loss: 1.5324 - accuracy: 0.4977 - val_loss: 1.4092 - val_accuracy: 0.5572\n",
            "Epoch 36/50\n",
            "118/118 [==============================] - 57s 483ms/step - loss: 1.5376 - accuracy: 0.5156 - val_loss: 1.4338 - val_accuracy: 0.5482\n",
            "Epoch 37/50\n",
            "118/118 [==============================] - 57s 483ms/step - loss: 1.5131 - accuracy: 0.5185 - val_loss: 1.3701 - val_accuracy: 0.5703\n",
            "Epoch 38/50\n",
            "118/118 [==============================] - 56s 473ms/step - loss: 1.5417 - accuracy: 0.5151 - val_loss: 1.4564 - val_accuracy: 0.5218\n",
            "Epoch 39/50\n",
            "118/118 [==============================] - 57s 485ms/step - loss: 1.5401 - accuracy: 0.5135 - val_loss: 1.2629 - val_accuracy: 0.6098\n",
            "Epoch 40/50\n",
            "118/118 [==============================] - 56s 475ms/step - loss: 1.4702 - accuracy: 0.5420 - val_loss: 1.2551 - val_accuracy: 0.6048\n",
            "Epoch 41/50\n",
            "118/118 [==============================] - 57s 488ms/step - loss: 1.4746 - accuracy: 0.5383 - val_loss: 1.3014 - val_accuracy: 0.5877\n",
            "Epoch 42/50\n",
            "118/118 [==============================] - 56s 477ms/step - loss: 1.4600 - accuracy: 0.5444 - val_loss: 1.4665 - val_accuracy: 0.5081\n",
            "Epoch 43/50\n",
            "118/118 [==============================] - 56s 479ms/step - loss: 1.4819 - accuracy: 0.5287 - val_loss: 1.2242 - val_accuracy: 0.6298\n",
            "Epoch 44/50\n",
            "118/118 [==============================] - 57s 481ms/step - loss: 1.4737 - accuracy: 0.5300 - val_loss: 1.2366 - val_accuracy: 0.6136\n",
            "Epoch 45/50\n",
            "118/118 [==============================] - 57s 487ms/step - loss: 1.4422 - accuracy: 0.5463 - val_loss: 1.5466 - val_accuracy: 0.5012\n",
            "Epoch 46/50\n",
            "118/118 [==============================] - 56s 478ms/step - loss: 1.4313 - accuracy: 0.5511 - val_loss: 1.2573 - val_accuracy: 0.5917\n",
            "Epoch 47/50\n",
            "118/118 [==============================] - 57s 486ms/step - loss: 1.4284 - accuracy: 0.5439 - val_loss: 1.4300 - val_accuracy: 0.5476\n",
            "Epoch 48/50\n",
            "118/118 [==============================] - 58s 492ms/step - loss: 1.4629 - accuracy: 0.5404 - val_loss: 1.4077 - val_accuracy: 0.5556\n",
            "Epoch 49/50\n",
            "118/118 [==============================] - 57s 485ms/step - loss: 1.4515 - accuracy: 0.5468 - val_loss: 1.2793 - val_accuracy: 0.5850\n",
            "Epoch 50/50\n",
            "118/118 [==============================] - 58s 491ms/step - loss: 1.3943 - accuracy: 0.5508 - val_loss: 1.2091 - val_accuracy: 0.6202\n",
            "Model: ResNet50, Batch Size: 32, Epochs: 50, Learning Rate: 0.001, Validation Accuracy: 0.6202295422554016\n"
          ]
        },
        {
          "output_type": "stream",
          "name": "stderr",
          "text": [
            "WARNING:absl:`lr` is deprecated in Keras optimizer, please use `learning_rate` or use the legacy optimizer, e.g.,tf.keras.optimizers.legacy.Adam.\n"
          ]
        },
        {
          "output_type": "stream",
          "name": "stdout",
          "text": [
            "Epoch 1/50\n",
            "118/118 [==============================] - 64s 528ms/step - loss: 1.7253 - accuracy: 0.5586 - val_loss: 0.8403 - val_accuracy: 0.7702\n",
            "Epoch 2/50\n",
            "118/118 [==============================] - 66s 562ms/step - loss: 0.7226 - accuracy: 0.7998 - val_loss: 0.5183 - val_accuracy: 0.8684\n",
            "Epoch 3/50\n",
            "118/118 [==============================] - 62s 522ms/step - loss: 0.5579 - accuracy: 0.8513 - val_loss: 0.4450 - val_accuracy: 0.8831\n",
            "Epoch 4/50\n",
            "118/118 [==============================] - 61s 520ms/step - loss: 0.4176 - accuracy: 0.8828 - val_loss: 0.3172 - val_accuracy: 0.9271\n",
            "Epoch 5/50\n",
            "118/118 [==============================] - 61s 517ms/step - loss: 0.3810 - accuracy: 0.8911 - val_loss: 0.2858 - val_accuracy: 0.9226\n",
            "Epoch 6/50\n",
            "118/118 [==============================] - 66s 557ms/step - loss: 0.3391 - accuracy: 0.9047 - val_loss: 0.2594 - val_accuracy: 0.9255\n",
            "Epoch 7/50\n",
            "118/118 [==============================] - 61s 521ms/step - loss: 0.3053 - accuracy: 0.9117 - val_loss: 0.3509 - val_accuracy: 0.8965\n",
            "Epoch 8/50\n",
            "118/118 [==============================] - 61s 519ms/step - loss: 0.2877 - accuracy: 0.9186 - val_loss: 0.2132 - val_accuracy: 0.9400\n",
            "Epoch 9/50\n",
            "118/118 [==============================] - 62s 524ms/step - loss: 0.2536 - accuracy: 0.9242 - val_loss: 0.1700 - val_accuracy: 0.9501\n",
            "Epoch 10/50\n",
            "118/118 [==============================] - 62s 526ms/step - loss: 0.2173 - accuracy: 0.9306 - val_loss: 0.2056 - val_accuracy: 0.9381\n",
            "Epoch 11/50\n",
            "118/118 [==============================] - 63s 530ms/step - loss: 0.2519 - accuracy: 0.9253 - val_loss: 0.1937 - val_accuracy: 0.9429\n",
            "Epoch 12/50\n",
            "118/118 [==============================] - 62s 530ms/step - loss: 0.2079 - accuracy: 0.9381 - val_loss: 0.1634 - val_accuracy: 0.9509\n",
            "Epoch 13/50\n",
            "118/118 [==============================] - 62s 527ms/step - loss: 0.2112 - accuracy: 0.9341 - val_loss: 0.1866 - val_accuracy: 0.9400\n",
            "Epoch 14/50\n",
            "118/118 [==============================] - 61s 518ms/step - loss: 0.2241 - accuracy: 0.9351 - val_loss: 0.1563 - val_accuracy: 0.9528\n",
            "Epoch 15/50\n",
            "118/118 [==============================] - 63s 532ms/step - loss: 0.1836 - accuracy: 0.9469 - val_loss: 0.1590 - val_accuracy: 0.9517\n",
            "Epoch 16/50\n",
            "118/118 [==============================] - 62s 528ms/step - loss: 0.1715 - accuracy: 0.9450 - val_loss: 0.2034 - val_accuracy: 0.9386\n",
            "Epoch 17/50\n",
            "118/118 [==============================] - 61s 521ms/step - loss: 0.1853 - accuracy: 0.9424 - val_loss: 0.1597 - val_accuracy: 0.9490\n",
            "Epoch 18/50\n",
            "118/118 [==============================] - 61s 516ms/step - loss: 0.1556 - accuracy: 0.9498 - val_loss: 0.1294 - val_accuracy: 0.9592\n",
            "Epoch 19/50\n",
            "118/118 [==============================] - 62s 524ms/step - loss: 0.2216 - accuracy: 0.9325 - val_loss: 0.2310 - val_accuracy: 0.9263\n",
            "Epoch 20/50\n",
            "118/118 [==============================] - 62s 526ms/step - loss: 0.1627 - accuracy: 0.9472 - val_loss: 0.1295 - val_accuracy: 0.9645\n",
            "Epoch 21/50\n",
            "118/118 [==============================] - 62s 526ms/step - loss: 0.1947 - accuracy: 0.9440 - val_loss: 0.2807 - val_accuracy: 0.9416\n",
            "Epoch 22/50\n",
            "118/118 [==============================] - 61s 516ms/step - loss: 0.1485 - accuracy: 0.9546 - val_loss: 0.1908 - val_accuracy: 0.9424\n",
            "Epoch 23/50\n",
            "118/118 [==============================] - 62s 522ms/step - loss: 0.1618 - accuracy: 0.9530 - val_loss: 0.1499 - val_accuracy: 0.9562\n",
            "Epoch 24/50\n",
            "118/118 [==============================] - 62s 528ms/step - loss: 0.1386 - accuracy: 0.9536 - val_loss: 0.1188 - val_accuracy: 0.9642\n",
            "Epoch 25/50\n",
            "118/118 [==============================] - 62s 526ms/step - loss: 0.1119 - accuracy: 0.9669 - val_loss: 0.1159 - val_accuracy: 0.9608\n",
            "Epoch 26/50\n",
            "118/118 [==============================] - 62s 524ms/step - loss: 0.2068 - accuracy: 0.9448 - val_loss: 0.1462 - val_accuracy: 0.9541\n",
            "Epoch 27/50\n",
            "118/118 [==============================] - 61s 519ms/step - loss: 0.1264 - accuracy: 0.9594 - val_loss: 0.1095 - val_accuracy: 0.9661\n",
            "Epoch 28/50\n",
            "118/118 [==============================] - 61s 521ms/step - loss: 0.1514 - accuracy: 0.9541 - val_loss: 0.1235 - val_accuracy: 0.9610\n",
            "Epoch 29/50\n",
            "118/118 [==============================] - 61s 519ms/step - loss: 0.1168 - accuracy: 0.9642 - val_loss: 0.0829 - val_accuracy: 0.9730\n",
            "Epoch 30/50\n",
            "118/118 [==============================] - 62s 526ms/step - loss: 0.1131 - accuracy: 0.9656 - val_loss: 0.0962 - val_accuracy: 0.9690\n",
            "Epoch 31/50\n",
            "118/118 [==============================] - 62s 526ms/step - loss: 0.1827 - accuracy: 0.9448 - val_loss: 0.1082 - val_accuracy: 0.9650\n",
            "Epoch 32/50\n",
            "118/118 [==============================] - 62s 529ms/step - loss: 0.1099 - accuracy: 0.9653 - val_loss: 0.1041 - val_accuracy: 0.9682\n",
            "Epoch 33/50\n",
            "118/118 [==============================] - 62s 526ms/step - loss: 0.1278 - accuracy: 0.9610 - val_loss: 0.0895 - val_accuracy: 0.9701\n",
            "Epoch 34/50\n",
            "118/118 [==============================] - 62s 523ms/step - loss: 0.1181 - accuracy: 0.9602 - val_loss: 0.1024 - val_accuracy: 0.9642\n",
            "Epoch 35/50\n",
            "118/118 [==============================] - 61s 520ms/step - loss: 0.1087 - accuracy: 0.9664 - val_loss: 0.0756 - val_accuracy: 0.9770\n",
            "Epoch 36/50\n",
            "118/118 [==============================] - 62s 525ms/step - loss: 0.0806 - accuracy: 0.9728 - val_loss: 0.0631 - val_accuracy: 0.9792\n",
            "Epoch 37/50\n",
            "118/118 [==============================] - 62s 526ms/step - loss: 0.1750 - accuracy: 0.9482 - val_loss: 0.1947 - val_accuracy: 0.9480\n",
            "Epoch 38/50\n",
            "118/118 [==============================] - 62s 527ms/step - loss: 0.1535 - accuracy: 0.9528 - val_loss: 0.0646 - val_accuracy: 0.9800\n",
            "Epoch 39/50\n",
            "118/118 [==============================] - 62s 522ms/step - loss: 0.1041 - accuracy: 0.9682 - val_loss: 0.0670 - val_accuracy: 0.9786\n",
            "Epoch 40/50\n",
            "118/118 [==============================] - 66s 564ms/step - loss: 0.0989 - accuracy: 0.9688 - val_loss: 0.1236 - val_accuracy: 0.9592\n",
            "Epoch 41/50\n",
            "118/118 [==============================] - 62s 527ms/step - loss: 0.0806 - accuracy: 0.9746 - val_loss: 0.0672 - val_accuracy: 0.9773\n",
            "Epoch 42/50\n",
            "118/118 [==============================] - 62s 527ms/step - loss: 0.0996 - accuracy: 0.9701 - val_loss: 0.0587 - val_accuracy: 0.9819\n",
            "Epoch 43/50\n",
            "118/118 [==============================] - 63s 532ms/step - loss: 0.0923 - accuracy: 0.9698 - val_loss: 0.0581 - val_accuracy: 0.9795\n",
            "Epoch 44/50\n",
            "118/118 [==============================] - 62s 524ms/step - loss: 0.0987 - accuracy: 0.9674 - val_loss: 0.0622 - val_accuracy: 0.9816\n",
            "Epoch 45/50\n",
            "118/118 [==============================] - 62s 523ms/step - loss: 0.0874 - accuracy: 0.9706 - val_loss: 0.0732 - val_accuracy: 0.9730\n",
            "Epoch 46/50\n",
            "118/118 [==============================] - 63s 531ms/step - loss: 0.1321 - accuracy: 0.9581 - val_loss: 0.1787 - val_accuracy: 0.9466\n",
            "Epoch 47/50\n",
            "118/118 [==============================] - 63s 533ms/step - loss: 0.1022 - accuracy: 0.9677 - val_loss: 0.1276 - val_accuracy: 0.9568\n",
            "Epoch 48/50\n",
            "118/118 [==============================] - 63s 531ms/step - loss: 0.0941 - accuracy: 0.9696 - val_loss: 0.0765 - val_accuracy: 0.9730\n",
            "Epoch 49/50\n",
            "118/118 [==============================] - 63s 530ms/step - loss: 0.1022 - accuracy: 0.9677 - val_loss: 0.0789 - val_accuracy: 0.9733\n",
            "Epoch 50/50\n",
            "118/118 [==============================] - 63s 531ms/step - loss: 0.0895 - accuracy: 0.9701 - val_loss: 0.0839 - val_accuracy: 0.9674\n",
            "Model: VGG16, Batch Size: 32, Epochs: 50, Learning Rate: 0.001, Validation Accuracy: 0.9674406051635742\n"
          ]
        },
        {
          "output_type": "stream",
          "name": "stderr",
          "text": [
            "WARNING:absl:`lr` is deprecated in Keras optimizer, please use `learning_rate` or use the legacy optimizer, e.g.,tf.keras.optimizers.legacy.Adam.\n"
          ]
        },
        {
          "output_type": "stream",
          "name": "stdout",
          "text": [
            "Epoch 1/50\n",
            "118/118 [==============================] - 60s 463ms/step - loss: 4.9385 - accuracy: 0.5554 - val_loss: 0.6380 - val_accuracy: 0.8353\n",
            "Epoch 2/50\n",
            "118/118 [==============================] - 53s 451ms/step - loss: 0.6209 - accuracy: 0.8329 - val_loss: 0.3875 - val_accuracy: 0.8887\n",
            "Epoch 3/50\n",
            "118/118 [==============================] - 53s 451ms/step - loss: 0.4992 - accuracy: 0.8607 - val_loss: 0.3333 - val_accuracy: 0.9101\n",
            "Epoch 4/50\n",
            "118/118 [==============================] - 52s 443ms/step - loss: 0.4088 - accuracy: 0.8879 - val_loss: 0.2588 - val_accuracy: 0.9202\n",
            "Epoch 5/50\n",
            "118/118 [==============================] - 53s 446ms/step - loss: 0.4091 - accuracy: 0.8839 - val_loss: 0.2522 - val_accuracy: 0.9245\n",
            "Epoch 6/50\n",
            "118/118 [==============================] - 53s 446ms/step - loss: 0.2943 - accuracy: 0.9106 - val_loss: 0.2391 - val_accuracy: 0.9253\n",
            "Epoch 7/50\n",
            "118/118 [==============================] - 52s 440ms/step - loss: 0.2877 - accuracy: 0.9170 - val_loss: 0.1912 - val_accuracy: 0.9437\n",
            "Epoch 8/50\n",
            "118/118 [==============================] - 52s 440ms/step - loss: 0.2318 - accuracy: 0.9309 - val_loss: 0.1761 - val_accuracy: 0.9482\n",
            "Epoch 9/50\n",
            "118/118 [==============================] - 52s 437ms/step - loss: 0.2652 - accuracy: 0.9218 - val_loss: 0.1789 - val_accuracy: 0.9477\n",
            "Epoch 10/50\n",
            "118/118 [==============================] - 52s 438ms/step - loss: 0.2609 - accuracy: 0.9223 - val_loss: 0.1774 - val_accuracy: 0.9442\n",
            "Epoch 11/50\n",
            "118/118 [==============================] - 51s 436ms/step - loss: 0.2128 - accuracy: 0.9351 - val_loss: 0.1922 - val_accuracy: 0.9421\n",
            "Epoch 12/50\n",
            "118/118 [==============================] - 51s 437ms/step - loss: 0.2389 - accuracy: 0.9306 - val_loss: 0.1197 - val_accuracy: 0.9634\n",
            "Epoch 13/50\n",
            "118/118 [==============================] - 52s 440ms/step - loss: 0.1936 - accuracy: 0.9410 - val_loss: 0.1694 - val_accuracy: 0.9488\n",
            "Epoch 14/50\n",
            "118/118 [==============================] - 52s 440ms/step - loss: 0.2229 - accuracy: 0.9421 - val_loss: 0.1343 - val_accuracy: 0.9594\n",
            "Epoch 15/50\n",
            "118/118 [==============================] - 54s 462ms/step - loss: 0.2314 - accuracy: 0.9341 - val_loss: 0.1918 - val_accuracy: 0.9402\n",
            "Epoch 16/50\n",
            "118/118 [==============================] - 55s 465ms/step - loss: 0.1955 - accuracy: 0.9469 - val_loss: 0.0790 - val_accuracy: 0.9720\n",
            "Epoch 17/50\n",
            "118/118 [==============================] - 51s 435ms/step - loss: 0.1791 - accuracy: 0.9493 - val_loss: 0.1349 - val_accuracy: 0.9576\n",
            "Epoch 18/50\n",
            "118/118 [==============================] - 52s 435ms/step - loss: 0.1504 - accuracy: 0.9554 - val_loss: 0.0727 - val_accuracy: 0.9789\n",
            "Epoch 19/50\n",
            "118/118 [==============================] - 51s 437ms/step - loss: 0.1800 - accuracy: 0.9504 - val_loss: 0.1882 - val_accuracy: 0.9509\n",
            "Epoch 20/50\n",
            "118/118 [==============================] - 52s 438ms/step - loss: 0.1783 - accuracy: 0.9493 - val_loss: 0.1351 - val_accuracy: 0.9600\n",
            "Epoch 21/50\n",
            "118/118 [==============================] - 52s 439ms/step - loss: 0.1562 - accuracy: 0.9568 - val_loss: 0.0612 - val_accuracy: 0.9821\n",
            "Epoch 22/50\n",
            "118/118 [==============================] - 52s 437ms/step - loss: 0.1846 - accuracy: 0.9474 - val_loss: 0.1283 - val_accuracy: 0.9634\n",
            "Epoch 23/50\n",
            "118/118 [==============================] - 52s 439ms/step - loss: 0.1820 - accuracy: 0.9472 - val_loss: 0.1422 - val_accuracy: 0.9584\n",
            "Epoch 24/50\n",
            "118/118 [==============================] - 53s 448ms/step - loss: 0.1964 - accuracy: 0.9461 - val_loss: 0.1403 - val_accuracy: 0.9584\n",
            "Epoch 25/50\n",
            "118/118 [==============================] - 52s 441ms/step - loss: 0.1590 - accuracy: 0.9549 - val_loss: 0.1209 - val_accuracy: 0.9650\n",
            "Epoch 26/50\n",
            "118/118 [==============================] - 55s 463ms/step - loss: 0.1621 - accuracy: 0.9584 - val_loss: 0.1232 - val_accuracy: 0.9605\n",
            "Epoch 27/50\n",
            "118/118 [==============================] - 52s 437ms/step - loss: 0.2038 - accuracy: 0.9501 - val_loss: 0.1455 - val_accuracy: 0.9608\n",
            "Epoch 28/50\n",
            "118/118 [==============================] - 51s 436ms/step - loss: 0.1829 - accuracy: 0.9506 - val_loss: 0.1558 - val_accuracy: 0.9530\n",
            "Epoch 29/50\n",
            "118/118 [==============================] - 52s 438ms/step - loss: 0.1406 - accuracy: 0.9570 - val_loss: 0.0948 - val_accuracy: 0.9722\n",
            "Epoch 30/50\n",
            "118/118 [==============================] - 52s 444ms/step - loss: 0.1863 - accuracy: 0.9578 - val_loss: 0.1343 - val_accuracy: 0.9570\n",
            "Epoch 31/50\n",
            "118/118 [==============================] - 52s 440ms/step - loss: 0.2286 - accuracy: 0.9416 - val_loss: 0.0578 - val_accuracy: 0.9851\n",
            "Epoch 32/50\n",
            "118/118 [==============================] - 52s 439ms/step - loss: 0.1767 - accuracy: 0.9544 - val_loss: 0.0974 - val_accuracy: 0.9704\n",
            "Epoch 33/50\n",
            "118/118 [==============================] - 52s 444ms/step - loss: 0.1790 - accuracy: 0.9552 - val_loss: 0.0664 - val_accuracy: 0.9800\n",
            "Epoch 34/50\n",
            "118/118 [==============================] - 51s 437ms/step - loss: 0.1295 - accuracy: 0.9613 - val_loss: 0.0656 - val_accuracy: 0.9789\n",
            "Epoch 35/50\n",
            "118/118 [==============================] - 52s 439ms/step - loss: 0.1461 - accuracy: 0.9632 - val_loss: 0.1189 - val_accuracy: 0.9674\n",
            "Epoch 36/50\n",
            "118/118 [==============================] - 52s 444ms/step - loss: 0.1679 - accuracy: 0.9536 - val_loss: 0.0617 - val_accuracy: 0.9813\n",
            "Epoch 37/50\n",
            "118/118 [==============================] - 54s 461ms/step - loss: 0.1207 - accuracy: 0.9653 - val_loss: 0.0684 - val_accuracy: 0.9808\n",
            "Epoch 38/50\n",
            "118/118 [==============================] - 51s 435ms/step - loss: 0.1408 - accuracy: 0.9650 - val_loss: 0.0705 - val_accuracy: 0.9770\n",
            "Epoch 39/50\n",
            "118/118 [==============================] - 51s 436ms/step - loss: 0.1226 - accuracy: 0.9640 - val_loss: 0.1063 - val_accuracy: 0.9696\n",
            "Epoch 40/50\n",
            "118/118 [==============================] - 54s 455ms/step - loss: 0.1461 - accuracy: 0.9584 - val_loss: 0.1145 - val_accuracy: 0.9674\n",
            "Epoch 41/50\n",
            "118/118 [==============================] - 52s 442ms/step - loss: 0.1983 - accuracy: 0.9474 - val_loss: 0.0729 - val_accuracy: 0.9765\n",
            "Epoch 42/50\n",
            "118/118 [==============================] - 53s 446ms/step - loss: 0.1425 - accuracy: 0.9626 - val_loss: 0.0941 - val_accuracy: 0.9752\n",
            "Epoch 43/50\n",
            "118/118 [==============================] - 53s 447ms/step - loss: 0.1524 - accuracy: 0.9597 - val_loss: 0.0405 - val_accuracy: 0.9880\n",
            "Epoch 44/50\n",
            "118/118 [==============================] - 52s 444ms/step - loss: 0.1491 - accuracy: 0.9637 - val_loss: 0.0539 - val_accuracy: 0.9827\n",
            "Epoch 45/50\n",
            "118/118 [==============================] - 52s 438ms/step - loss: 0.1263 - accuracy: 0.9661 - val_loss: 0.0724 - val_accuracy: 0.9770\n",
            "Epoch 46/50\n",
            "118/118 [==============================] - 52s 440ms/step - loss: 0.1348 - accuracy: 0.9656 - val_loss: 0.0488 - val_accuracy: 0.9864\n",
            "Epoch 47/50\n",
            "118/118 [==============================] - 52s 438ms/step - loss: 0.2297 - accuracy: 0.9386 - val_loss: 0.0422 - val_accuracy: 0.9856\n",
            "Epoch 48/50\n",
            "118/118 [==============================] - 51s 435ms/step - loss: 0.1180 - accuracy: 0.9706 - val_loss: 0.0799 - val_accuracy: 0.9800\n",
            "Epoch 49/50\n",
            "118/118 [==============================] - 52s 437ms/step - loss: 0.1992 - accuracy: 0.9517 - val_loss: 0.0897 - val_accuracy: 0.9765\n",
            "Epoch 50/50\n",
            "118/118 [==============================] - 52s 441ms/step - loss: 0.1328 - accuracy: 0.9669 - val_loss: 0.0485 - val_accuracy: 0.9859\n",
            "Model: InceptionV3, Batch Size: 32, Epochs: 50, Learning Rate: 0.001, Validation Accuracy: 0.9858553409576416\n"
          ]
        }
      ]
    },
    {
      "cell_type": "markdown",
      "source": [
        "###Insights from the hyperparameter tuning:-\n",
        "Best Model- InceptionV3 with epochs=50 and learning rate=0.001 and validation accuracy= 0.9858"
      ],
      "metadata": {
        "id": "PwXlgaVYPcwj"
      }
    },
    {
      "cell_type": "code",
      "source": [
        "\n",
        "\n",
        "\"\"\" Here we will be using imagenet weights with InceptionV3, here we have used include_top=False\n",
        " because we will train our own fully connected layer after the non trainable layers of the InceptionV3 architecture\n",
        "\"\"\"\n",
        "inceptionv3 = InceptionV3(input_shape=[224,224] + [3], weights='imagenet', include_top=False)"
      ],
      "metadata": {
        "id": "XdMtHvJM_Ql1"
      },
      "execution_count": 68,
      "outputs": []
    },
    {
      "cell_type": "code",
      "source": [
        "for layer in inceptionv3.layers:\n",
        "  print(layer)"
      ],
      "metadata": {
        "colab": {
          "base_uri": "https://localhost:8080/"
        },
        "id": "_t8t9Uuo_QbN",
        "outputId": "26ea7ec8-be7e-451a-d39a-251670e9b821"
      },
      "execution_count": 15,
      "outputs": [
        {
          "output_type": "stream",
          "name": "stdout",
          "text": [
            "<keras.engine.input_layer.InputLayer object at 0x7bc8a492bb20>\n",
            "<keras.layers.convolutional.conv2d.Conv2D object at 0x7bc8a492b4f0>\n",
            "<keras.layers.normalization.batch_normalization.BatchNormalization object at 0x7bc8a447cdf0>\n",
            "<keras.layers.core.activation.Activation object at 0x7bc8a447d330>\n",
            "<keras.layers.convolutional.conv2d.Conv2D object at 0x7bc8a447ddb0>\n",
            "<keras.layers.normalization.batch_normalization.BatchNormalization object at 0x7bc8a447f310>\n",
            "<keras.layers.core.activation.Activation object at 0x7bc8a447e920>\n",
            "<keras.layers.convolutional.conv2d.Conv2D object at 0x7bc8a447fa30>\n",
            "<keras.layers.normalization.batch_normalization.BatchNormalization object at 0x7bc8a447fc10>\n",
            "<keras.layers.core.activation.Activation object at 0x7bc8a447ead0>\n",
            "<keras.layers.pooling.max_pooling2d.MaxPooling2D object at 0x7bc8a40e8d30>\n",
            "<keras.layers.convolutional.conv2d.Conv2D object at 0x7bc8a40ea8c0>\n",
            "<keras.layers.normalization.batch_normalization.BatchNormalization object at 0x7bc8a40eba00>\n",
            "<keras.layers.core.activation.Activation object at 0x7bc8a40ea200>\n",
            "<keras.layers.convolutional.conv2d.Conv2D object at 0x7bc8a40e9b40>\n",
            "<keras.layers.normalization.batch_normalization.BatchNormalization object at 0x7bc8a40eabc0>\n",
            "<keras.layers.core.activation.Activation object at 0x7bc8a40ea5f0>\n",
            "<keras.layers.pooling.max_pooling2d.MaxPooling2D object at 0x7bc8a40f8bb0>\n",
            "<keras.layers.convolutional.conv2d.Conv2D object at 0x7bc8a41123e0>\n",
            "<keras.layers.normalization.batch_normalization.BatchNormalization object at 0x7bc8a447d5d0>\n",
            "<keras.layers.core.activation.Activation object at 0x7bc8a447f490>\n",
            "<keras.layers.convolutional.conv2d.Conv2D object at 0x7bc8a40f9f00>\n",
            "<keras.layers.convolutional.conv2d.Conv2D object at 0x7bc8a40f9780>\n",
            "<keras.layers.normalization.batch_normalization.BatchNormalization object at 0x7bc8a40f91b0>\n",
            "<keras.layers.normalization.batch_normalization.BatchNormalization object at 0x7bc8a40ebb80>\n",
            "<keras.layers.core.activation.Activation object at 0x7bc8a4112230>\n",
            "<keras.layers.core.activation.Activation object at 0x7bc8a41259f0>\n",
            "<keras.layers.pooling.average_pooling2d.AveragePooling2D object at 0x7bc8a4126650>\n",
            "<keras.layers.convolutional.conv2d.Conv2D object at 0x7bc8a40fac20>\n",
            "<keras.layers.convolutional.conv2d.Conv2D object at 0x7bc8a4111120>\n",
            "<keras.layers.convolutional.conv2d.Conv2D object at 0x7bc8a41243d0>\n",
            "<keras.layers.convolutional.conv2d.Conv2D object at 0x7bc8a4125e70>\n",
            "<keras.layers.normalization.batch_normalization.BatchNormalization object at 0x7bc8a40fbd60>\n",
            "<keras.layers.normalization.batch_normalization.BatchNormalization object at 0x7bc8a41136d0>\n",
            "<keras.layers.normalization.batch_normalization.BatchNormalization object at 0x7bc8a41270a0>\n",
            "<keras.layers.normalization.batch_normalization.BatchNormalization object at 0x7bc8a4127d00>\n",
            "<keras.layers.core.activation.Activation object at 0x7bc8a40fa980>\n",
            "<keras.layers.core.activation.Activation object at 0x7bc8a4112b00>\n",
            "<keras.layers.core.activation.Activation object at 0x7bc8a4127b80>\n",
            "<keras.layers.core.activation.Activation object at 0x7bc8a4135ed0>\n",
            "<keras.layers.merging.concatenate.Concatenate object at 0x7bc8a41342b0>\n",
            "<keras.layers.convolutional.conv2d.Conv2D object at 0x7bc8a4149a20>\n",
            "<keras.layers.normalization.batch_normalization.BatchNormalization object at 0x7bc8a4149a50>\n",
            "<keras.layers.core.activation.Activation object at 0x7bc8a41590c0>\n",
            "<keras.layers.convolutional.conv2d.Conv2D object at 0x7bc8a4148820>\n",
            "<keras.layers.convolutional.conv2d.Conv2D object at 0x7bc8a4158e50>\n",
            "<keras.layers.normalization.batch_normalization.BatchNormalization object at 0x7bc8a4136a70>\n",
            "<keras.layers.normalization.batch_normalization.BatchNormalization object at 0x7bc8a415b520>\n",
            "<keras.layers.core.activation.Activation object at 0x7bc8a4137eb0>\n",
            "<keras.layers.core.activation.Activation object at 0x7bc8a41588e0>\n",
            "<keras.layers.pooling.average_pooling2d.AveragePooling2D object at 0x7bc8a4174d60>\n",
            "<keras.layers.convolutional.conv2d.Conv2D object at 0x7bc8a4136b30>\n",
            "<keras.layers.convolutional.conv2d.Conv2D object at 0x7bc8a414a1d0>\n",
            "<keras.layers.convolutional.conv2d.Conv2D object at 0x7bc8a4159150>\n",
            "<keras.layers.convolutional.conv2d.Conv2D object at 0x7bc8a4176ad0>\n",
            "<keras.layers.normalization.batch_normalization.BatchNormalization object at 0x7bc8a4134af0>\n",
            "<keras.layers.normalization.batch_normalization.BatchNormalization object at 0x7bc8a414b760>\n",
            "<keras.layers.normalization.batch_normalization.BatchNormalization object at 0x7bc8a415abc0>\n",
            "<keras.layers.normalization.batch_normalization.BatchNormalization object at 0x7bc8a4177c10>\n",
            "<keras.layers.core.activation.Activation object at 0x7bc8a4137d60>\n",
            "<keras.layers.core.activation.Activation object at 0x7bc8a4148190>\n",
            "<keras.layers.core.activation.Activation object at 0x7bc8a4175ab0>\n",
            "<keras.layers.core.activation.Activation object at 0x7bc8a4176950>\n",
            "<keras.layers.merging.concatenate.Concatenate object at 0x7bc8a4175b40>\n",
            "<keras.layers.convolutional.conv2d.Conv2D object at 0x7bc8a4192bc0>\n",
            "<keras.layers.normalization.batch_normalization.BatchNormalization object at 0x7bc8a4193cd0>\n",
            "<keras.layers.core.activation.Activation object at 0x7bc8a4192110>\n",
            "<keras.layers.convolutional.conv2d.Conv2D object at 0x7bc8a4149450>\n",
            "<keras.layers.convolutional.conv2d.Conv2D object at 0x7bc8a41a4cd0>\n",
            "<keras.layers.normalization.batch_normalization.BatchNormalization object at 0x7bc8a4125ab0>\n",
            "<keras.layers.normalization.batch_normalization.BatchNormalization object at 0x7bc8a4190df0>\n",
            "<keras.layers.core.activation.Activation object at 0x7bc8a40fae90>\n",
            "<keras.layers.core.activation.Activation object at 0x7bc8a41a6b30>\n",
            "<keras.layers.pooling.average_pooling2d.AveragePooling2D object at 0x7bc87ff045e0>\n",
            "<keras.layers.convolutional.conv2d.Conv2D object at 0x7bc8a4176a70>\n",
            "<keras.layers.convolutional.conv2d.Conv2D object at 0x7bc8a40e9270>\n",
            "<keras.layers.convolutional.conv2d.Conv2D object at 0x7bc8a41a5570>\n",
            "<keras.layers.convolutional.conv2d.Conv2D object at 0x7bc87ff056f0>\n",
            "<keras.layers.normalization.batch_normalization.BatchNormalization object at 0x7bc8a4175c00>\n",
            "<keras.layers.normalization.batch_normalization.BatchNormalization object at 0x7bc8a41596f0>\n",
            "<keras.layers.normalization.batch_normalization.BatchNormalization object at 0x7bc8a41a7f10>\n",
            "<keras.layers.normalization.batch_normalization.BatchNormalization object at 0x7bc87ff06350>\n",
            "<keras.layers.core.activation.Activation object at 0x7bc8a4159e70>\n",
            "<keras.layers.core.activation.Activation object at 0x7bc8a40eb6d0>\n",
            "<keras.layers.core.activation.Activation object at 0x7bc8a41a77f0>\n",
            "<keras.layers.core.activation.Activation object at 0x7bc87ff05e10>\n",
            "<keras.layers.merging.concatenate.Concatenate object at 0x7bc87ff047c0>\n",
            "<keras.layers.convolutional.conv2d.Conv2D object at 0x7bc87ff19780>\n",
            "<keras.layers.normalization.batch_normalization.BatchNormalization object at 0x7bc87ff05060>\n",
            "<keras.layers.core.activation.Activation object at 0x7bc87ff1a9b0>\n",
            "<keras.layers.convolutional.conv2d.Conv2D object at 0x7bc87ff1b160>\n",
            "<keras.layers.normalization.batch_normalization.BatchNormalization object at 0x7bc87ff1b8e0>\n",
            "<keras.layers.core.activation.Activation object at 0x7bc87ff18e80>\n",
            "<keras.layers.convolutional.conv2d.Conv2D object at 0x7bc87ff07a90>\n",
            "<keras.layers.convolutional.conv2d.Conv2D object at 0x7bc87ff2ceb0>\n",
            "<keras.layers.normalization.batch_normalization.BatchNormalization object at 0x7bc87ff07b20>\n",
            "<keras.layers.normalization.batch_normalization.BatchNormalization object at 0x7bc87ff2de10>\n",
            "<keras.layers.core.activation.Activation object at 0x7bc87ff07580>\n",
            "<keras.layers.core.activation.Activation object at 0x7bc87ff2f100>\n",
            "<keras.layers.pooling.max_pooling2d.MaxPooling2D object at 0x7bc87ff2e0b0>\n",
            "<keras.layers.merging.concatenate.Concatenate object at 0x7bc87ff2fe20>\n",
            "<keras.layers.convolutional.conv2d.Conv2D object at 0x7bc87ff060e0>\n",
            "<keras.layers.normalization.batch_normalization.BatchNormalization object at 0x7bc87ff65570>\n",
            "<keras.layers.core.activation.Activation object at 0x7bc87ff645b0>\n",
            "<keras.layers.convolutional.conv2d.Conv2D object at 0x7bc87ff665f0>\n",
            "<keras.layers.normalization.batch_normalization.BatchNormalization object at 0x7bc87ff67b20>\n",
            "<keras.layers.core.activation.Activation object at 0x7bc87ff65de0>\n",
            "<keras.layers.convolutional.conv2d.Conv2D object at 0x7bc87ff2eda0>\n",
            "<keras.layers.convolutional.conv2d.Conv2D object at 0x7bc87ff67e50>\n",
            "<keras.layers.normalization.batch_normalization.BatchNormalization object at 0x7bc87ff2cb50>\n",
            "<keras.layers.normalization.batch_normalization.BatchNormalization object at 0x7bc87ff65900>\n",
            "<keras.layers.core.activation.Activation object at 0x7bc8a41a4640>\n",
            "<keras.layers.core.activation.Activation object at 0x7bc87ff65a80>\n",
            "<keras.layers.convolutional.conv2d.Conv2D object at 0x7bc8a4192c50>\n",
            "<keras.layers.convolutional.conv2d.Conv2D object at 0x7bc87ff6dcf0>\n",
            "<keras.layers.normalization.batch_normalization.BatchNormalization object at 0x7bc87ff19000>\n",
            "<keras.layers.normalization.batch_normalization.BatchNormalization object at 0x7bc87ff6f3a0>\n",
            "<keras.layers.core.activation.Activation object at 0x7bc8a4159870>\n",
            "<keras.layers.core.activation.Activation object at 0x7bc87ff6fe80>\n",
            "<keras.layers.pooling.average_pooling2d.AveragePooling2D object at 0x7bc87ff84430>\n",
            "<keras.layers.convolutional.conv2d.Conv2D object at 0x7bc87ff2feb0>\n",
            "<keras.layers.convolutional.conv2d.Conv2D object at 0x7bc8a41919f0>\n",
            "<keras.layers.convolutional.conv2d.Conv2D object at 0x7bc87ff6ef50>\n",
            "<keras.layers.convolutional.conv2d.Conv2D object at 0x7bc87ff86980>\n",
            "<keras.layers.normalization.batch_normalization.BatchNormalization object at 0x7bc87ff2c460>\n",
            "<keras.layers.normalization.batch_normalization.BatchNormalization object at 0x7bc87ff438b0>\n",
            "<keras.layers.normalization.batch_normalization.BatchNormalization object at 0x7bc87ff6e7d0>\n",
            "<keras.layers.normalization.batch_normalization.BatchNormalization object at 0x7bc87ff87ac0>\n",
            "<keras.layers.core.activation.Activation object at 0x7bc87ff41300>\n",
            "<keras.layers.core.activation.Activation object at 0x7bc87ff439d0>\n",
            "<keras.layers.core.activation.Activation object at 0x7bc87ff85960>\n",
            "<keras.layers.core.activation.Activation object at 0x7bc87ff86320>\n",
            "<keras.layers.merging.concatenate.Concatenate object at 0x7bc87ff859f0>\n",
            "<keras.layers.convolutional.conv2d.Conv2D object at 0x7bc87ffb1690>\n",
            "<keras.layers.normalization.batch_normalization.BatchNormalization object at 0x7bc87ff6ffa0>\n",
            "<keras.layers.core.activation.Activation object at 0x7bc87ff6fc40>\n",
            "<keras.layers.convolutional.conv2d.Conv2D object at 0x7bc87ff9d480>\n",
            "<keras.layers.normalization.batch_normalization.BatchNormalization object at 0x7bc8a4192500>\n",
            "<keras.layers.core.activation.Activation object at 0x7bc8a447d6f0>\n",
            "<keras.layers.convolutional.conv2d.Conv2D object at 0x7bc87ff9ea40>\n",
            "<keras.layers.convolutional.conv2d.Conv2D object at 0x7bc87ff9e3e0>\n",
            "<keras.layers.normalization.batch_normalization.BatchNormalization object at 0x7bc87ff9ff70>\n",
            "<keras.layers.normalization.batch_normalization.BatchNormalization object at 0x7bc87ff65f60>\n",
            "<keras.layers.core.activation.Activation object at 0x7bc87ff9f910>\n",
            "<keras.layers.core.activation.Activation object at 0x7bc87ff85570>\n",
            "<keras.layers.convolutional.conv2d.Conv2D object at 0x7bc87ff9dd50>\n",
            "<keras.layers.convolutional.conv2d.Conv2D object at 0x7bc87ffca530>\n",
            "<keras.layers.normalization.batch_normalization.BatchNormalization object at 0x7bc87ff9de70>\n",
            "<keras.layers.normalization.batch_normalization.BatchNormalization object at 0x7bc87ffca9e0>\n",
            "<keras.layers.core.activation.Activation object at 0x7bc87ffb2260>\n",
            "<keras.layers.core.activation.Activation object at 0x7bc87ffc84f0>\n",
            "<keras.layers.pooling.average_pooling2d.AveragePooling2D object at 0x7bc87ffd48e0>\n",
            "<keras.layers.convolutional.conv2d.Conv2D object at 0x7bc87ff866b0>\n",
            "<keras.layers.convolutional.conv2d.Conv2D object at 0x7bc87ffb2140>\n",
            "<keras.layers.convolutional.conv2d.Conv2D object at 0x7bc87ffc91e0>\n",
            "<keras.layers.convolutional.conv2d.Conv2D object at 0x7bc87ffcacb0>\n",
            "<keras.layers.normalization.batch_normalization.BatchNormalization object at 0x7bc87ff9d990>\n",
            "<keras.layers.normalization.batch_normalization.BatchNormalization object at 0x7bc87ffb37f0>\n",
            "<keras.layers.normalization.batch_normalization.BatchNormalization object at 0x7bc87ffcb0a0>\n",
            "<keras.layers.normalization.batch_normalization.BatchNormalization object at 0x7bc87ffd6590>\n",
            "<keras.layers.core.activation.Activation object at 0x7bc87ff9dfc0>\n",
            "<keras.layers.core.activation.Activation object at 0x7bc87ffb0370>\n",
            "<keras.layers.core.activation.Activation object at 0x7bc87ffc9240>\n",
            "<keras.layers.core.activation.Activation object at 0x7bc87ffd4b80>\n",
            "<keras.layers.merging.concatenate.Concatenate object at 0x7bc87ffd5f90>\n",
            "<keras.layers.convolutional.conv2d.Conv2D object at 0x7bc87ffed4b0>\n",
            "<keras.layers.normalization.batch_normalization.BatchNormalization object at 0x7bc855b045e0>\n",
            "<keras.layers.core.activation.Activation object at 0x7bc855b05ab0>\n",
            "<keras.layers.convolutional.conv2d.Conv2D object at 0x7bc855b06d40>\n",
            "<keras.layers.normalization.batch_normalization.BatchNormalization object at 0x7bc855b05d80>\n",
            "<keras.layers.core.activation.Activation object at 0x7bc855b06740>\n",
            "<keras.layers.convolutional.conv2d.Conv2D object at 0x7bc87ffd5e70>\n",
            "<keras.layers.convolutional.conv2d.Conv2D object at 0x7bc855b072e0>\n",
            "<keras.layers.normalization.batch_normalization.BatchNormalization object at 0x7bc87ffd5d50>\n",
            "<keras.layers.normalization.batch_normalization.BatchNormalization object at 0x7bc87ffeda20>\n",
            "<keras.layers.core.activation.Activation object at 0x7bc87ffecf10>\n",
            "<keras.layers.core.activation.Activation object at 0x7bc87ffedab0>\n",
            "<keras.layers.convolutional.conv2d.Conv2D object at 0x7bc87ffd7b20>\n",
            "<keras.layers.convolutional.conv2d.Conv2D object at 0x7bc87ffee440>\n",
            "<keras.layers.normalization.batch_normalization.BatchNormalization object at 0x7bc87ffed7b0>\n",
            "<keras.layers.normalization.batch_normalization.BatchNormalization object at 0x7bc87ffd7280>\n",
            "<keras.layers.core.activation.Activation object at 0x7bc87ffee6b0>\n",
            "<keras.layers.core.activation.Activation object at 0x7bc87ff1aec0>\n",
            "<keras.layers.pooling.average_pooling2d.AveragePooling2D object at 0x7bc855b25c60>\n",
            "<keras.layers.convolutional.conv2d.Conv2D object at 0x7bc87ffd4fa0>\n",
            "<keras.layers.convolutional.conv2d.Conv2D object at 0x7bc87ffefeb0>\n",
            "<keras.layers.convolutional.conv2d.Conv2D object at 0x7bc87ff67cd0>\n",
            "<keras.layers.convolutional.conv2d.Conv2D object at 0x7bc87ffcb490>\n",
            "<keras.layers.normalization.batch_normalization.BatchNormalization object at 0x7bc87ffd75b0>\n",
            "<keras.layers.normalization.batch_normalization.BatchNormalization object at 0x7bc87ffeef50>\n",
            "<keras.layers.normalization.batch_normalization.BatchNormalization object at 0x7bc87ffcb370>\n",
            "<keras.layers.normalization.batch_normalization.BatchNormalization object at 0x7bc855b24e50>\n",
            "<keras.layers.core.activation.Activation object at 0x7bc87ffd5540>\n",
            "<keras.layers.core.activation.Activation object at 0x7bc87ffec2e0>\n",
            "<keras.layers.core.activation.Activation object at 0x7bc87ff67d00>\n",
            "<keras.layers.core.activation.Activation object at 0x7bc855b273a0>\n",
            "<keras.layers.merging.concatenate.Concatenate object at 0x7bc855b276a0>\n",
            "<keras.layers.convolutional.conv2d.Conv2D object at 0x7bc855b43430>\n",
            "<keras.layers.normalization.batch_normalization.BatchNormalization object at 0x7bc855b5a980>\n",
            "<keras.layers.core.activation.Activation object at 0x7bc855b59690>\n",
            "<keras.layers.convolutional.conv2d.Conv2D object at 0x7bc855b5bc10>\n",
            "<keras.layers.normalization.batch_normalization.BatchNormalization object at 0x7bc855b5a260>\n",
            "<keras.layers.core.activation.Activation object at 0x7bc855b59420>\n",
            "<keras.layers.convolutional.conv2d.Conv2D object at 0x7bc855b261d0>\n",
            "<keras.layers.convolutional.conv2d.Conv2D object at 0x7bc855b5bc40>\n",
            "<keras.layers.normalization.batch_normalization.BatchNormalization object at 0x7bc855b406a0>\n",
            "<keras.layers.normalization.batch_normalization.BatchNormalization object at 0x7bc855b7e020>\n",
            "<keras.layers.core.activation.Activation object at 0x7bc855b43370>\n",
            "<keras.layers.core.activation.Activation object at 0x7bc855b7fa90>\n",
            "<keras.layers.convolutional.conv2d.Conv2D object at 0x7bc855b42ad0>\n",
            "<keras.layers.convolutional.conv2d.Conv2D object at 0x7bc855b7f1f0>\n",
            "<keras.layers.normalization.batch_normalization.BatchNormalization object at 0x7bc855b43250>\n",
            "<keras.layers.normalization.batch_normalization.BatchNormalization object at 0x7bc855b7f970>\n",
            "<keras.layers.core.activation.Activation object at 0x7bc855b439d0>\n",
            "<keras.layers.core.activation.Activation object at 0x7bc855b7d930>\n",
            "<keras.layers.pooling.average_pooling2d.AveragePooling2D object at 0x7bc855b59cc0>\n",
            "<keras.layers.convolutional.conv2d.Conv2D object at 0x7bc87ff86560>\n",
            "<keras.layers.convolutional.conv2d.Conv2D object at 0x7bc855b438b0>\n",
            "<keras.layers.convolutional.conv2d.Conv2D object at 0x7bc855b7f3a0>\n",
            "<keras.layers.convolutional.conv2d.Conv2D object at 0x7bc855b589a0>\n",
            "<keras.layers.normalization.batch_normalization.BatchNormalization object at 0x7bc855b27fa0>\n",
            "<keras.layers.normalization.batch_normalization.BatchNormalization object at 0x7bc855b58df0>\n",
            "<keras.layers.normalization.batch_normalization.BatchNormalization object at 0x7bc855b7db10>\n",
            "<keras.layers.normalization.batch_normalization.BatchNormalization object at 0x7bc855b7d330>\n",
            "<keras.layers.core.activation.Activation object at 0x7bc855b263b0>\n",
            "<keras.layers.core.activation.Activation object at 0x7bc855b42c20>\n",
            "<keras.layers.core.activation.Activation object at 0x7bc855b5b970>\n",
            "<keras.layers.core.activation.Activation object at 0x7bc855b40fa0>\n",
            "<keras.layers.merging.concatenate.Concatenate object at 0x7bc855b7d8d0>\n",
            "<keras.layers.convolutional.conv2d.Conv2D object at 0x7bc855b24880>\n",
            "<keras.layers.normalization.batch_normalization.BatchNormalization object at 0x7bc855b9e6e0>\n",
            "<keras.layers.core.activation.Activation object at 0x7bc855b9f430>\n",
            "<keras.layers.convolutional.conv2d.Conv2D object at 0x7bc855b9fee0>\n",
            "<keras.layers.normalization.batch_normalization.BatchNormalization object at 0x7bc855b9ff40>\n",
            "<keras.layers.core.activation.Activation object at 0x7bc855b9e680>\n",
            "<keras.layers.convolutional.conv2d.Conv2D object at 0x7bc855b58160>\n",
            "<keras.layers.convolutional.conv2d.Conv2D object at 0x7bc855b9f310>\n",
            "<keras.layers.normalization.batch_normalization.BatchNormalization object at 0x7bc855b41330>\n",
            "<keras.layers.normalization.batch_normalization.BatchNormalization object at 0x7bc855bbe380>\n",
            "<keras.layers.core.activation.Activation object at 0x7bc855b07130>\n",
            "<keras.layers.core.activation.Activation object at 0x7bc855bbfdf0>\n",
            "<keras.layers.convolutional.conv2d.Conv2D object at 0x7bc855b06f80>\n",
            "<keras.layers.convolutional.conv2d.Conv2D object at 0x7bc855bbf550>\n",
            "<keras.layers.normalization.batch_normalization.BatchNormalization object at 0x7bc855b24250>\n",
            "<keras.layers.normalization.batch_normalization.BatchNormalization object at 0x7bc855bbdde0>\n",
            "<keras.layers.core.activation.Activation object at 0x7bc855b7d420>\n",
            "<keras.layers.core.activation.Activation object at 0x7bc855bbdcf0>\n",
            "<keras.layers.pooling.max_pooling2d.MaxPooling2D object at 0x7bc855bd4b20>\n",
            "<keras.layers.merging.concatenate.Concatenate object at 0x7bc855bbe2c0>\n",
            "<keras.layers.convolutional.conv2d.Conv2D object at 0x7bc855bf6e60>\n",
            "<keras.layers.normalization.batch_normalization.BatchNormalization object at 0x7bc855bd4c40>\n",
            "<keras.layers.core.activation.Activation object at 0x7bc855bd4280>\n",
            "<keras.layers.convolutional.conv2d.Conv2D object at 0x7bc855bd68c0>\n",
            "<keras.layers.convolutional.conv2d.Conv2D object at 0x7bc855bd6080>\n",
            "<keras.layers.normalization.batch_normalization.BatchNormalization object at 0x7bc855bd5d80>\n",
            "<keras.layers.normalization.batch_normalization.BatchNormalization object at 0x7bc855bbe5f0>\n",
            "<keras.layers.core.activation.Activation object at 0x7bc855bd49d0>\n",
            "<keras.layers.core.activation.Activation object at 0x7bc855bbc460>\n",
            "<keras.layers.convolutional.conv2d.Conv2D object at 0x7bc855bd4370>\n",
            "<keras.layers.convolutional.conv2d.Conv2D object at 0x7bc855bd5cc0>\n",
            "<keras.layers.convolutional.conv2d.Conv2D object at 0x7bc855bbe9e0>\n",
            "<keras.layers.convolutional.conv2d.Conv2D object at 0x7bc855b27dc0>\n",
            "<keras.layers.pooling.average_pooling2d.AveragePooling2D object at 0x7bc8523111e0>\n",
            "<keras.layers.convolutional.conv2d.Conv2D object at 0x7bc855bd4eb0>\n",
            "<keras.layers.normalization.batch_normalization.BatchNormalization object at 0x7bc855bd7880>\n",
            "<keras.layers.normalization.batch_normalization.BatchNormalization object at 0x7bc855bf52d0>\n",
            "<keras.layers.normalization.batch_normalization.BatchNormalization object at 0x7bc87ffd7490>\n",
            "<keras.layers.normalization.batch_normalization.BatchNormalization object at 0x7bc855bf62f0>\n",
            "<keras.layers.convolutional.conv2d.Conv2D object at 0x7bc855b59e10>\n",
            "<keras.layers.normalization.batch_normalization.BatchNormalization object at 0x7bc855bd6650>\n",
            "<keras.layers.core.activation.Activation object at 0x7bc855bf5630>\n",
            "<keras.layers.core.activation.Activation object at 0x7bc855bf63b0>\n",
            "<keras.layers.core.activation.Activation object at 0x7bc855b42500>\n",
            "<keras.layers.core.activation.Activation object at 0x7bc855b5b610>\n",
            "<keras.layers.normalization.batch_normalization.BatchNormalization object at 0x7bc855b42ce0>\n",
            "<keras.layers.core.activation.Activation object at 0x7bc855b25900>\n",
            "<keras.layers.merging.concatenate.Concatenate object at 0x7bc855bf6b00>\n",
            "<keras.layers.merging.concatenate.Concatenate object at 0x7bc855b413f0>\n",
            "<keras.layers.core.activation.Activation object at 0x7bc852313010>\n",
            "<keras.layers.merging.concatenate.Concatenate object at 0x7bc852312770>\n",
            "<keras.layers.convolutional.conv2d.Conv2D object at 0x7bc852313250>\n",
            "<keras.layers.normalization.batch_normalization.BatchNormalization object at 0x7bc85232b610>\n",
            "<keras.layers.core.activation.Activation object at 0x7bc85232bd00>\n",
            "<keras.layers.convolutional.conv2d.Conv2D object at 0x7bc852311090>\n",
            "<keras.layers.convolutional.conv2d.Conv2D object at 0x7bc85232a8f0>\n",
            "<keras.layers.normalization.batch_normalization.BatchNormalization object at 0x7bc852311f90>\n",
            "<keras.layers.normalization.batch_normalization.BatchNormalization object at 0x7bc8523450c0>\n",
            "<keras.layers.core.activation.Activation object at 0x7bc852311630>\n",
            "<keras.layers.core.activation.Activation object at 0x7bc8523440d0>\n",
            "<keras.layers.convolutional.conv2d.Conv2D object at 0x7bc8523101f0>\n",
            "<keras.layers.convolutional.conv2d.Conv2D object at 0x7bc852329270>\n",
            "<keras.layers.convolutional.conv2d.Conv2D object at 0x7bc8523444f0>\n",
            "<keras.layers.convolutional.conv2d.Conv2D object at 0x7bc852347c40>\n",
            "<keras.layers.pooling.average_pooling2d.AveragePooling2D object at 0x7bc852344e50>\n",
            "<keras.layers.convolutional.conv2d.Conv2D object at 0x7bc852312fb0>\n",
            "<keras.layers.normalization.batch_normalization.BatchNormalization object at 0x7bc852329cc0>\n",
            "<keras.layers.normalization.batch_normalization.BatchNormalization object at 0x7bc85232a5f0>\n",
            "<keras.layers.normalization.batch_normalization.BatchNormalization object at 0x7bc852345e70>\n",
            "<keras.layers.normalization.batch_normalization.BatchNormalization object at 0x7bc852328bb0>\n",
            "<keras.layers.convolutional.conv2d.Conv2D object at 0x7bc852345030>\n",
            "<keras.layers.normalization.batch_normalization.BatchNormalization object at 0x7bc852313310>\n",
            "<keras.layers.core.activation.Activation object at 0x7bc852329b40>\n",
            "<keras.layers.core.activation.Activation object at 0x7bc8523297e0>\n",
            "<keras.layers.core.activation.Activation object at 0x7bc852345ea0>\n",
            "<keras.layers.core.activation.Activation object at 0x7bc855b24730>\n",
            "<keras.layers.normalization.batch_normalization.BatchNormalization object at 0x7bc855bd4e50>\n",
            "<keras.layers.core.activation.Activation object at 0x7bc852313af0>\n",
            "<keras.layers.merging.concatenate.Concatenate object at 0x7bc852329ea0>\n",
            "<keras.layers.merging.concatenate.Concatenate object at 0x7bc855b24c70>\n",
            "<keras.layers.core.activation.Activation object at 0x7bc855bf4a90>\n",
            "<keras.layers.merging.concatenate.Concatenate object at 0x7bc855bd4c10>\n"
          ]
        }
      ]
    },
    {
      "cell_type": "code",
      "source": [
        "#checking layers which we are not training\n",
        "\n",
        "for layer in inceptionv3.layers:\n",
        "  layer.trainable=False\n",
        "\n",
        "\n",
        "for layer in inceptionv3.layers:\n",
        "\n",
        "  print(layer.name, layer.trainable)"
      ],
      "metadata": {
        "colab": {
          "base_uri": "https://localhost:8080/"
        },
        "id": "NylHYJRT_QXN",
        "outputId": "014eeffe-0ad2-495c-a0aa-34b119d3dc44"
      },
      "execution_count": 16,
      "outputs": [
        {
          "output_type": "stream",
          "name": "stdout",
          "text": [
            "input_1 False\n",
            "conv2d False\n",
            "batch_normalization False\n",
            "activation False\n",
            "conv2d_1 False\n",
            "batch_normalization_1 False\n",
            "activation_1 False\n",
            "conv2d_2 False\n",
            "batch_normalization_2 False\n",
            "activation_2 False\n",
            "max_pooling2d False\n",
            "conv2d_3 False\n",
            "batch_normalization_3 False\n",
            "activation_3 False\n",
            "conv2d_4 False\n",
            "batch_normalization_4 False\n",
            "activation_4 False\n",
            "max_pooling2d_1 False\n",
            "conv2d_8 False\n",
            "batch_normalization_8 False\n",
            "activation_8 False\n",
            "conv2d_6 False\n",
            "conv2d_9 False\n",
            "batch_normalization_6 False\n",
            "batch_normalization_9 False\n",
            "activation_6 False\n",
            "activation_9 False\n",
            "average_pooling2d False\n",
            "conv2d_5 False\n",
            "conv2d_7 False\n",
            "conv2d_10 False\n",
            "conv2d_11 False\n",
            "batch_normalization_5 False\n",
            "batch_normalization_7 False\n",
            "batch_normalization_10 False\n",
            "batch_normalization_11 False\n",
            "activation_5 False\n",
            "activation_7 False\n",
            "activation_10 False\n",
            "activation_11 False\n",
            "mixed0 False\n",
            "conv2d_15 False\n",
            "batch_normalization_15 False\n",
            "activation_15 False\n",
            "conv2d_13 False\n",
            "conv2d_16 False\n",
            "batch_normalization_13 False\n",
            "batch_normalization_16 False\n",
            "activation_13 False\n",
            "activation_16 False\n",
            "average_pooling2d_1 False\n",
            "conv2d_12 False\n",
            "conv2d_14 False\n",
            "conv2d_17 False\n",
            "conv2d_18 False\n",
            "batch_normalization_12 False\n",
            "batch_normalization_14 False\n",
            "batch_normalization_17 False\n",
            "batch_normalization_18 False\n",
            "activation_12 False\n",
            "activation_14 False\n",
            "activation_17 False\n",
            "activation_18 False\n",
            "mixed1 False\n",
            "conv2d_22 False\n",
            "batch_normalization_22 False\n",
            "activation_22 False\n",
            "conv2d_20 False\n",
            "conv2d_23 False\n",
            "batch_normalization_20 False\n",
            "batch_normalization_23 False\n",
            "activation_20 False\n",
            "activation_23 False\n",
            "average_pooling2d_2 False\n",
            "conv2d_19 False\n",
            "conv2d_21 False\n",
            "conv2d_24 False\n",
            "conv2d_25 False\n",
            "batch_normalization_19 False\n",
            "batch_normalization_21 False\n",
            "batch_normalization_24 False\n",
            "batch_normalization_25 False\n",
            "activation_19 False\n",
            "activation_21 False\n",
            "activation_24 False\n",
            "activation_25 False\n",
            "mixed2 False\n",
            "conv2d_27 False\n",
            "batch_normalization_27 False\n",
            "activation_27 False\n",
            "conv2d_28 False\n",
            "batch_normalization_28 False\n",
            "activation_28 False\n",
            "conv2d_26 False\n",
            "conv2d_29 False\n",
            "batch_normalization_26 False\n",
            "batch_normalization_29 False\n",
            "activation_26 False\n",
            "activation_29 False\n",
            "max_pooling2d_2 False\n",
            "mixed3 False\n",
            "conv2d_34 False\n",
            "batch_normalization_34 False\n",
            "activation_34 False\n",
            "conv2d_35 False\n",
            "batch_normalization_35 False\n",
            "activation_35 False\n",
            "conv2d_31 False\n",
            "conv2d_36 False\n",
            "batch_normalization_31 False\n",
            "batch_normalization_36 False\n",
            "activation_31 False\n",
            "activation_36 False\n",
            "conv2d_32 False\n",
            "conv2d_37 False\n",
            "batch_normalization_32 False\n",
            "batch_normalization_37 False\n",
            "activation_32 False\n",
            "activation_37 False\n",
            "average_pooling2d_3 False\n",
            "conv2d_30 False\n",
            "conv2d_33 False\n",
            "conv2d_38 False\n",
            "conv2d_39 False\n",
            "batch_normalization_30 False\n",
            "batch_normalization_33 False\n",
            "batch_normalization_38 False\n",
            "batch_normalization_39 False\n",
            "activation_30 False\n",
            "activation_33 False\n",
            "activation_38 False\n",
            "activation_39 False\n",
            "mixed4 False\n",
            "conv2d_44 False\n",
            "batch_normalization_44 False\n",
            "activation_44 False\n",
            "conv2d_45 False\n",
            "batch_normalization_45 False\n",
            "activation_45 False\n",
            "conv2d_41 False\n",
            "conv2d_46 False\n",
            "batch_normalization_41 False\n",
            "batch_normalization_46 False\n",
            "activation_41 False\n",
            "activation_46 False\n",
            "conv2d_42 False\n",
            "conv2d_47 False\n",
            "batch_normalization_42 False\n",
            "batch_normalization_47 False\n",
            "activation_42 False\n",
            "activation_47 False\n",
            "average_pooling2d_4 False\n",
            "conv2d_40 False\n",
            "conv2d_43 False\n",
            "conv2d_48 False\n",
            "conv2d_49 False\n",
            "batch_normalization_40 False\n",
            "batch_normalization_43 False\n",
            "batch_normalization_48 False\n",
            "batch_normalization_49 False\n",
            "activation_40 False\n",
            "activation_43 False\n",
            "activation_48 False\n",
            "activation_49 False\n",
            "mixed5 False\n",
            "conv2d_54 False\n",
            "batch_normalization_54 False\n",
            "activation_54 False\n",
            "conv2d_55 False\n",
            "batch_normalization_55 False\n",
            "activation_55 False\n",
            "conv2d_51 False\n",
            "conv2d_56 False\n",
            "batch_normalization_51 False\n",
            "batch_normalization_56 False\n",
            "activation_51 False\n",
            "activation_56 False\n",
            "conv2d_52 False\n",
            "conv2d_57 False\n",
            "batch_normalization_52 False\n",
            "batch_normalization_57 False\n",
            "activation_52 False\n",
            "activation_57 False\n",
            "average_pooling2d_5 False\n",
            "conv2d_50 False\n",
            "conv2d_53 False\n",
            "conv2d_58 False\n",
            "conv2d_59 False\n",
            "batch_normalization_50 False\n",
            "batch_normalization_53 False\n",
            "batch_normalization_58 False\n",
            "batch_normalization_59 False\n",
            "activation_50 False\n",
            "activation_53 False\n",
            "activation_58 False\n",
            "activation_59 False\n",
            "mixed6 False\n",
            "conv2d_64 False\n",
            "batch_normalization_64 False\n",
            "activation_64 False\n",
            "conv2d_65 False\n",
            "batch_normalization_65 False\n",
            "activation_65 False\n",
            "conv2d_61 False\n",
            "conv2d_66 False\n",
            "batch_normalization_61 False\n",
            "batch_normalization_66 False\n",
            "activation_61 False\n",
            "activation_66 False\n",
            "conv2d_62 False\n",
            "conv2d_67 False\n",
            "batch_normalization_62 False\n",
            "batch_normalization_67 False\n",
            "activation_62 False\n",
            "activation_67 False\n",
            "average_pooling2d_6 False\n",
            "conv2d_60 False\n",
            "conv2d_63 False\n",
            "conv2d_68 False\n",
            "conv2d_69 False\n",
            "batch_normalization_60 False\n",
            "batch_normalization_63 False\n",
            "batch_normalization_68 False\n",
            "batch_normalization_69 False\n",
            "activation_60 False\n",
            "activation_63 False\n",
            "activation_68 False\n",
            "activation_69 False\n",
            "mixed7 False\n",
            "conv2d_72 False\n",
            "batch_normalization_72 False\n",
            "activation_72 False\n",
            "conv2d_73 False\n",
            "batch_normalization_73 False\n",
            "activation_73 False\n",
            "conv2d_70 False\n",
            "conv2d_74 False\n",
            "batch_normalization_70 False\n",
            "batch_normalization_74 False\n",
            "activation_70 False\n",
            "activation_74 False\n",
            "conv2d_71 False\n",
            "conv2d_75 False\n",
            "batch_normalization_71 False\n",
            "batch_normalization_75 False\n",
            "activation_71 False\n",
            "activation_75 False\n",
            "max_pooling2d_3 False\n",
            "mixed8 False\n",
            "conv2d_80 False\n",
            "batch_normalization_80 False\n",
            "activation_80 False\n",
            "conv2d_77 False\n",
            "conv2d_81 False\n",
            "batch_normalization_77 False\n",
            "batch_normalization_81 False\n",
            "activation_77 False\n",
            "activation_81 False\n",
            "conv2d_78 False\n",
            "conv2d_79 False\n",
            "conv2d_82 False\n",
            "conv2d_83 False\n",
            "average_pooling2d_7 False\n",
            "conv2d_76 False\n",
            "batch_normalization_78 False\n",
            "batch_normalization_79 False\n",
            "batch_normalization_82 False\n",
            "batch_normalization_83 False\n",
            "conv2d_84 False\n",
            "batch_normalization_76 False\n",
            "activation_78 False\n",
            "activation_79 False\n",
            "activation_82 False\n",
            "activation_83 False\n",
            "batch_normalization_84 False\n",
            "activation_76 False\n",
            "mixed9_0 False\n",
            "concatenate False\n",
            "activation_84 False\n",
            "mixed9 False\n",
            "conv2d_89 False\n",
            "batch_normalization_89 False\n",
            "activation_89 False\n",
            "conv2d_86 False\n",
            "conv2d_90 False\n",
            "batch_normalization_86 False\n",
            "batch_normalization_90 False\n",
            "activation_86 False\n",
            "activation_90 False\n",
            "conv2d_87 False\n",
            "conv2d_88 False\n",
            "conv2d_91 False\n",
            "conv2d_92 False\n",
            "average_pooling2d_8 False\n",
            "conv2d_85 False\n",
            "batch_normalization_87 False\n",
            "batch_normalization_88 False\n",
            "batch_normalization_91 False\n",
            "batch_normalization_92 False\n",
            "conv2d_93 False\n",
            "batch_normalization_85 False\n",
            "activation_87 False\n",
            "activation_88 False\n",
            "activation_91 False\n",
            "activation_92 False\n",
            "batch_normalization_93 False\n",
            "activation_85 False\n",
            "mixed9_1 False\n",
            "concatenate_1 False\n",
            "activation_93 False\n",
            "mixed10 False\n"
          ]
        }
      ]
    },
    {
      "cell_type": "code",
      "source": [
        "#model architecture\n",
        "model = Sequential()\n",
        "\n",
        "model.add(inceptionv3)\n",
        "model.add(Flatten())\n",
        "model.add(Dense(256,activation='relu'))\n",
        "model.add(Dense(28,activation='softmax'))"
      ],
      "metadata": {
        "id": "HTnaMf-ACffR"
      },
      "execution_count": 17,
      "outputs": []
    },
    {
      "cell_type": "code",
      "source": [
        "\n",
        "# view the structure of the model\n",
        "model.summary()"
      ],
      "metadata": {
        "colab": {
          "base_uri": "https://localhost:8080/"
        },
        "id": "w7FNI9abCqfr",
        "outputId": "c40fd39a-17c6-4a79-eedd-a2a57192a608"
      },
      "execution_count": 18,
      "outputs": [
        {
          "output_type": "stream",
          "name": "stdout",
          "text": [
            "Model: \"sequential\"\n",
            "_________________________________________________________________\n",
            " Layer (type)                Output Shape              Param #   \n",
            "=================================================================\n",
            " inception_v3 (Functional)   (None, 5, 5, 2048)        21802784  \n",
            "                                                                 \n",
            " flatten (Flatten)           (None, 51200)             0         \n",
            "                                                                 \n",
            " dense (Dense)               (None, 256)               13107456  \n",
            "                                                                 \n",
            " dense_1 (Dense)             (None, 28)                7196      \n",
            "                                                                 \n",
            "=================================================================\n",
            "Total params: 34,917,436\n",
            "Trainable params: 13,114,652\n",
            "Non-trainable params: 21,802,784\n",
            "_________________________________________________________________\n"
          ]
        }
      ]
    },
    {
      "cell_type": "code",
      "source": [
        "#adding loss, optimizer and metrics\n",
        "model.compile(\n",
        "  loss='categorical_crossentropy',\n",
        "  optimizer='adam',\n",
        "  metrics=['accuracy']\n",
        ")\n",
        "\n",
        ""
      ],
      "metadata": {
        "id": "ZIr6AnafCsiX"
      },
      "execution_count": 21,
      "outputs": []
    },
    {
      "cell_type": "code",
      "source": [
        "\n",
        "# fit the model\n",
        "# training only on 30 epochs because we have lack of resources(GPU) for computation\n",
        "r = model.fit(\n",
        "  training_set,\n",
        "  validation_data=test_set,\n",
        "  epochs=30,\n",
        "  steps_per_epoch=len(training_set),\n",
        "  validation_steps=len(test_set)\n",
        ")\n",
        ""
      ],
      "metadata": {
        "colab": {
          "base_uri": "https://localhost:8080/"
        },
        "id": "GuOocpB1Cu6I",
        "outputId": "b96475c6-8580-44de-8e60-bf67cebd35a5"
      },
      "execution_count": 23,
      "outputs": [
        {
          "output_type": "stream",
          "name": "stdout",
          "text": [
            "Epoch 1/30\n",
            "118/118 [==============================] - 52s 437ms/step - loss: 0.6191 - accuracy: 0.8351 - val_loss: 0.4125 - val_accuracy: 0.8820\n",
            "Epoch 2/30\n",
            "118/118 [==============================] - 54s 457ms/step - loss: 0.4323 - accuracy: 0.8826 - val_loss: 0.2358 - val_accuracy: 0.9290\n",
            "Epoch 3/30\n",
            "118/118 [==============================] - 52s 444ms/step - loss: 0.4646 - accuracy: 0.8764 - val_loss: 0.3528 - val_accuracy: 0.8978\n",
            "Epoch 4/30\n",
            "118/118 [==============================] - 52s 443ms/step - loss: 0.3908 - accuracy: 0.8991 - val_loss: 0.2349 - val_accuracy: 0.9333\n",
            "Epoch 5/30\n",
            "118/118 [==============================] - 53s 449ms/step - loss: 0.3790 - accuracy: 0.8986 - val_loss: 0.2364 - val_accuracy: 0.9274\n",
            "Epoch 6/30\n",
            "118/118 [==============================] - 54s 457ms/step - loss: 0.3123 - accuracy: 0.9207 - val_loss: 0.2646 - val_accuracy: 0.9239\n",
            "Epoch 7/30\n",
            "118/118 [==============================] - 52s 439ms/step - loss: 0.3495 - accuracy: 0.9061 - val_loss: 0.1336 - val_accuracy: 0.9565\n",
            "Epoch 8/30\n",
            "118/118 [==============================] - 52s 437ms/step - loss: 0.2275 - accuracy: 0.9359 - val_loss: 0.1197 - val_accuracy: 0.9650\n",
            "Epoch 9/30\n",
            "118/118 [==============================] - 51s 435ms/step - loss: 0.2314 - accuracy: 0.9354 - val_loss: 0.1411 - val_accuracy: 0.9554\n",
            "Epoch 10/30\n",
            "118/118 [==============================] - 52s 439ms/step - loss: 0.2809 - accuracy: 0.9231 - val_loss: 0.1215 - val_accuracy: 0.9648\n",
            "Epoch 11/30\n",
            "118/118 [==============================] - 52s 443ms/step - loss: 0.2127 - accuracy: 0.9408 - val_loss: 0.1332 - val_accuracy: 0.9597\n",
            "Epoch 12/30\n",
            "118/118 [==============================] - 52s 439ms/step - loss: 0.2171 - accuracy: 0.9389 - val_loss: 0.1541 - val_accuracy: 0.9546\n",
            "Epoch 13/30\n",
            "118/118 [==============================] - 52s 442ms/step - loss: 0.2274 - accuracy: 0.9397 - val_loss: 0.1101 - val_accuracy: 0.9688\n",
            "Epoch 14/30\n",
            "118/118 [==============================] - 51s 433ms/step - loss: 0.1976 - accuracy: 0.9464 - val_loss: 0.1104 - val_accuracy: 0.9666\n",
            "Epoch 15/30\n",
            "118/118 [==============================] - 51s 434ms/step - loss: 0.2062 - accuracy: 0.9448 - val_loss: 0.0794 - val_accuracy: 0.9760\n",
            "Epoch 16/30\n",
            "118/118 [==============================] - 51s 436ms/step - loss: 0.1902 - accuracy: 0.9440 - val_loss: 0.0645 - val_accuracy: 0.9784\n",
            "Epoch 17/30\n",
            "118/118 [==============================] - 52s 440ms/step - loss: 0.2053 - accuracy: 0.9488 - val_loss: 0.1064 - val_accuracy: 0.9664\n",
            "Epoch 18/30\n",
            "118/118 [==============================] - 51s 434ms/step - loss: 0.2249 - accuracy: 0.9426 - val_loss: 0.0872 - val_accuracy: 0.9709\n",
            "Epoch 19/30\n",
            "118/118 [==============================] - 52s 439ms/step - loss: 0.1830 - accuracy: 0.9530 - val_loss: 0.1163 - val_accuracy: 0.9666\n",
            "Epoch 20/30\n",
            "118/118 [==============================] - 51s 434ms/step - loss: 0.1804 - accuracy: 0.9530 - val_loss: 0.1097 - val_accuracy: 0.9669\n",
            "Epoch 21/30\n",
            "118/118 [==============================] - 52s 440ms/step - loss: 0.1856 - accuracy: 0.9541 - val_loss: 0.0777 - val_accuracy: 0.9770\n",
            "Epoch 22/30\n",
            "118/118 [==============================] - 51s 433ms/step - loss: 0.1528 - accuracy: 0.9573 - val_loss: 0.0489 - val_accuracy: 0.9829\n",
            "Epoch 23/30\n",
            "118/118 [==============================] - 51s 432ms/step - loss: 0.1682 - accuracy: 0.9538 - val_loss: 0.1071 - val_accuracy: 0.9722\n",
            "Epoch 24/30\n",
            "118/118 [==============================] - 52s 443ms/step - loss: 0.1305 - accuracy: 0.9570 - val_loss: 0.0741 - val_accuracy: 0.9786\n",
            "Epoch 25/30\n",
            "118/118 [==============================] - 51s 435ms/step - loss: 0.1487 - accuracy: 0.9594 - val_loss: 0.1057 - val_accuracy: 0.9685\n",
            "Epoch 26/30\n",
            "118/118 [==============================] - 52s 442ms/step - loss: 0.1614 - accuracy: 0.9592 - val_loss: 0.8693 - val_accuracy: 0.8751\n",
            "Epoch 27/30\n",
            "118/118 [==============================] - 52s 440ms/step - loss: 0.3137 - accuracy: 0.9327 - val_loss: 0.0915 - val_accuracy: 0.9717\n",
            "Epoch 28/30\n",
            "118/118 [==============================] - 52s 445ms/step - loss: 0.1829 - accuracy: 0.9496 - val_loss: 0.0731 - val_accuracy: 0.9768\n",
            "Epoch 29/30\n",
            "118/118 [==============================] - 52s 445ms/step - loss: 0.1376 - accuracy: 0.9629 - val_loss: 0.0687 - val_accuracy: 0.9789\n",
            "Epoch 30/30\n",
            "118/118 [==============================] - 54s 455ms/step - loss: 0.1494 - accuracy: 0.9597 - val_loss: 0.0596 - val_accuracy: 0.9808\n"
          ]
        }
      ]
    },
    {
      "cell_type": "code",
      "source": [
        "#saving the model\n",
        "from tensorflow.keras.models import load_model\n",
        "\n",
        "model.save('model.h5')\n",
        ""
      ],
      "metadata": {
        "id": "SbEOwFanCzFG"
      },
      "execution_count": 29,
      "outputs": []
    },
    {
      "cell_type": "code",
      "source": [
        "# loss plot for visualizing loss patterns while training the dataset\n",
        "plt.plot(r.history['loss'], label='train loss')\n",
        "plt.plot(r.history['val_loss'], label='val loss')\n",
        "plt.legend()\n",
        "plt.show()"
      ],
      "metadata": {
        "colab": {
          "base_uri": "https://localhost:8080/",
          "height": 430
        },
        "id": "11HcmEF7LPfH",
        "outputId": "7d91d4a9-ed79-43f8-8226-c3c6329b29c8"
      },
      "execution_count": 25,
      "outputs": [
        {
          "output_type": "display_data",
          "data": {
            "text/plain": [
              "<Figure size 640x480 with 1 Axes>"
            ],
            "image/png": "[encoded data removed]"
          },
          "metadata": {}
        }
      ]
    },
    {
      "cell_type": "code",
      "source": [
        "# accuracy plot for visualizing loss patterns while training the dataset\n",
        "plt.plot(r.history['accuracy'], label='train acc')\n",
        "plt.plot(r.history['val_accuracy'], label='val acc')\n",
        "plt.legend()\n",
        "plt.show()"
      ],
      "metadata": {
        "colab": {
          "base_uri": "https://localhost:8080/",
          "height": 430
        },
        "id": "GIF_vxv9LSU0",
        "outputId": "11590fb3-42b6-43e0-bf32-c36114acf8d4"
      },
      "execution_count": 26,
      "outputs": [
        {
          "output_type": "display_data",
          "data": {
            "text/plain": [
              "<Figure size 640x480 with 1 Axes>"
            ],
            "image/png": "[encoded data removed]"
          },
          "metadata": {}
        }
      ]
    },
    {
      "cell_type": "code",
      "source": [
        "from tensorflow.keras.preprocessing import image\n",
        ""
      ],
      "metadata": {
        "id": "jO19wQFcLXyA"
      },
      "execution_count": 27,
      "outputs": []
    },
    {
      "cell_type": "code",
      "source": [
        "#loading the model\n",
        "model=load_model('model.h5')\n",
        ""
      ],
      "metadata": {
        "id": "oc-borPXLfYT"
      },
      "execution_count": 30,
      "outputs": []
    },
    {
      "cell_type": "code",
      "source": [
        "#loading test image\n",
        "img1=image.load_img('/content/Maruti-Suzuki.jpg',target_size=(224,224))"
      ],
      "metadata": {
        "id": "cUNtdmYLLhMb"
      },
      "execution_count": 54,
      "outputs": []
    },
    {
      "cell_type": "code",
      "source": [
        "#converting the image into array for predicting the output\n",
        "x=image.img_to_array(img1)\n",
        "x"
      ],
      "metadata": {
        "colab": {
          "base_uri": "https://localhost:8080/"
        },
        "id": "9ZTno_D6L3N-",
        "outputId": "b94fc86a-33d9-4326-b7c4-8cef010234cb"
      },
      "execution_count": 55,
      "outputs": [
        {
          "output_type": "execute_result",
          "data": {
            "text/plain": [
              "array([[[166., 185., 199.],\n",
              "        [166., 185., 199.],\n",
              "        [166., 185., 199.],\n",
              "        ...,\n",
              "        [169., 188., 192.],\n",
              "        [169., 188., 192.],\n",
              "        [169., 188., 192.]],\n",
              "\n",
              "       [[166., 185., 199.],\n",
              "        [166., 185., 199.],\n",
              "        [166., 185., 199.],\n",
              "        ...,\n",
              "        [169., 188., 192.],\n",
              "        [169., 188., 192.],\n",
              "        [169., 188., 192.]],\n",
              "\n",
              "       [[166., 185., 199.],\n",
              "        [166., 185., 199.],\n",
              "        [166., 185., 199.],\n",
              "        ...,\n",
              "        [169., 188., 192.],\n",
              "        [169., 188., 192.],\n",
              "        [169., 188., 192.]],\n",
              "\n",
              "       ...,\n",
              "\n",
              "       [[107., 166., 200.],\n",
              "        [107., 166., 200.],\n",
              "        [107., 166., 200.],\n",
              "        ...,\n",
              "        [114., 173., 205.],\n",
              "        [114., 173., 205.],\n",
              "        [114., 173., 205.]],\n",
              "\n",
              "       [[107., 166., 200.],\n",
              "        [107., 166., 200.],\n",
              "        [107., 166., 200.],\n",
              "        ...,\n",
              "        [114., 173., 205.],\n",
              "        [114., 173., 205.],\n",
              "        [114., 173., 205.]],\n",
              "\n",
              "       [[107., 166., 200.],\n",
              "        [107., 166., 200.],\n",
              "        [107., 166., 200.],\n",
              "        ...,\n",
              "        [114., 173., 205.],\n",
              "        [114., 173., 205.],\n",
              "        [114., 173., 205.]]], dtype=float32)"
            ]
          },
          "metadata": {},
          "execution_count": 55
        }
      ]
    },
    {
      "cell_type": "code",
      "source": [
        "#visualizing the image- logo of maruti suzuki\n",
        "Z = plt.imread('/content/Maruti-Suzuki.jpg')\n",
        "plt.imshow(Z)"
      ],
      "metadata": {
        "colab": {
          "base_uri": "https://localhost:8080/",
          "height": 449
        },
        "id": "ex99fPa9L42Q",
        "outputId": "e8b6c7a6-56eb-4be4-bb7b-0491b465d5b9"
      },
      "execution_count": 57,
      "outputs": [
        {
          "output_type": "execute_result",
          "data": {
            "text/plain": [
              "<matplotlib.image.AxesImage at 0x7bc79c76a800>"
            ]
          },
          "metadata": {},
          "execution_count": 57
        },
        {
          "output_type": "display_data",
          "data": {
            "text/plain": [
              "<Figure size 640x480 with 1 Axes>"
            ],
            "image/png": "[encoded data removed]"
          },
          "metadata": {}
        }
      ]
    },
    {
      "cell_type": "code",
      "source": [
        "#normalizing the image_array\n",
        "x=x/255"
      ],
      "metadata": {
        "id": "ehb_7U5RL7w6"
      },
      "execution_count": 58,
      "outputs": []
    },
    {
      "cell_type": "code",
      "source": [
        "x"
      ],
      "metadata": {
        "colab": {
          "base_uri": "https://localhost:8080/"
        },
        "id": "_FBA6EfhMBum",
        "outputId": "81d71986-b588-4f6e-c88c-57916856cd81"
      },
      "execution_count": 59,
      "outputs": [
        {
          "output_type": "execute_result",
          "data": {
            "text/plain": [
              "array([[[0.6509804 , 0.7254902 , 0.78039217],\n",
              "        [0.6509804 , 0.7254902 , 0.78039217],\n",
              "        [0.6509804 , 0.7254902 , 0.78039217],\n",
              "        ...,\n",
              "        [0.6627451 , 0.7372549 , 0.7529412 ],\n",
              "        [0.6627451 , 0.7372549 , 0.7529412 ],\n",
              "        [0.6627451 , 0.7372549 , 0.7529412 ]],\n",
              "\n",
              "       [[0.6509804 , 0.7254902 , 0.78039217],\n",
              "        [0.6509804 , 0.7254902 , 0.78039217],\n",
              "        [0.6509804 , 0.7254902 , 0.78039217],\n",
              "        ...,\n",
              "        [0.6627451 , 0.7372549 , 0.7529412 ],\n",
              "        [0.6627451 , 0.7372549 , 0.7529412 ],\n",
              "        [0.6627451 , 0.7372549 , 0.7529412 ]],\n",
              "\n",
              "       [[0.6509804 , 0.7254902 , 0.78039217],\n",
              "        [0.6509804 , 0.7254902 , 0.78039217],\n",
              "        [0.6509804 , 0.7254902 , 0.78039217],\n",
              "        ...,\n",
              "        [0.6627451 , 0.7372549 , 0.7529412 ],\n",
              "        [0.6627451 , 0.7372549 , 0.7529412 ],\n",
              "        [0.6627451 , 0.7372549 , 0.7529412 ]],\n",
              "\n",
              "       ...,\n",
              "\n",
              "       [[0.41960785, 0.6509804 , 0.78431374],\n",
              "        [0.41960785, 0.6509804 , 0.78431374],\n",
              "        [0.41960785, 0.6509804 , 0.78431374],\n",
              "        ...,\n",
              "        [0.44705883, 0.6784314 , 0.8039216 ],\n",
              "        [0.44705883, 0.6784314 , 0.8039216 ],\n",
              "        [0.44705883, 0.6784314 , 0.8039216 ]],\n",
              "\n",
              "       [[0.41960785, 0.6509804 , 0.78431374],\n",
              "        [0.41960785, 0.6509804 , 0.78431374],\n",
              "        [0.41960785, 0.6509804 , 0.78431374],\n",
              "        ...,\n",
              "        [0.44705883, 0.6784314 , 0.8039216 ],\n",
              "        [0.44705883, 0.6784314 , 0.8039216 ],\n",
              "        [0.44705883, 0.6784314 , 0.8039216 ]],\n",
              "\n",
              "       [[0.41960785, 0.6509804 , 0.78431374],\n",
              "        [0.41960785, 0.6509804 , 0.78431374],\n",
              "        [0.41960785, 0.6509804 , 0.78431374],\n",
              "        ...,\n",
              "        [0.44705883, 0.6784314 , 0.8039216 ],\n",
              "        [0.44705883, 0.6784314 , 0.8039216 ],\n",
              "        [0.44705883, 0.6784314 , 0.8039216 ]]], dtype=float32)"
            ]
          },
          "metadata": {},
          "execution_count": 59
        }
      ]
    },
    {
      "cell_type": "code",
      "source": [
        "from keras.applications.vgg16 import preprocess_input\n",
        ""
      ],
      "metadata": {
        "id": "zfH2D6VhMDrH"
      },
      "execution_count": 60,
      "outputs": []
    },
    {
      "cell_type": "code",
      "source": [
        "#converting the image size into the required image size for predicting the output\n",
        "import numpy as np\n",
        "x=np.expand_dims(x,axis=0)\n",
        "img_data=preprocess_input(x)\n",
        "img_data.shape"
      ],
      "metadata": {
        "colab": {
          "base_uri": "https://localhost:8080/"
        },
        "id": "rGj7kmhOME4A",
        "outputId": "6936c58a-07d6-43cd-9aa7-e29573a51ce9"
      },
      "execution_count": 61,
      "outputs": [
        {
          "output_type": "execute_result",
          "data": {
            "text/plain": [
              "(1, 224, 224, 3)"
            ]
          },
          "metadata": {},
          "execution_count": 61
        }
      ]
    },
    {
      "cell_type": "code",
      "source": [
        "#model prediction\n",
        "model.predict(img_data)"
      ],
      "metadata": {
        "colab": {
          "base_uri": "https://localhost:8080/"
        },
        "id": "fJQMTS3KMKQL",
        "outputId": "9c7bebe5-1e1d-46e2-f04c-db518be5943c"
      },
      "execution_count": 62,
      "outputs": [
        {
          "output_type": "stream",
          "name": "stdout",
          "text": [
            "1/1 [==============================] - 0s 34ms/step\n"
          ]
        },
        {
          "output_type": "execute_result",
          "data": {
            "text/plain": [
              "array([[0., 0., 0., 0., 0., 0., 0., 0., 0., 0., 0., 0., 0., 0., 0., 0.,\n",
              "        1., 0., 0., 0., 0., 0., 0., 0., 0., 0., 0., 0.]], dtype=float32)"
            ]
          },
          "metadata": {},
          "execution_count": 62
        }
      ]
    },
    {
      "cell_type": "code",
      "source": [
        "#using argmax to find the class with the largest predicted probability using classes index\n",
        "a=np.argmax(model.predict(img_data), axis=1)"
      ],
      "metadata": {
        "colab": {
          "base_uri": "https://localhost:8080/"
        },
        "id": "vjmZHqwkMaSJ",
        "outputId": "8b53456b-b5ca-471d-af68-7093cadbf151"
      },
      "execution_count": 63,
      "outputs": [
        {
          "output_type": "stream",
          "name": "stdout",
          "text": [
            "1/1 [==============================] - 0s 36ms/step\n"
          ]
        }
      ]
    },
    {
      "cell_type": "code",
      "source": [
        "a\n",
        ""
      ],
      "metadata": {
        "colab": {
          "base_uri": "https://localhost:8080/"
        },
        "id": "veBYl_tUMdgv",
        "outputId": "e0e8f0d9-dc7c-4103-d739-21a84262d7b7"
      },
      "execution_count": 64,
      "outputs": [
        {
          "output_type": "execute_result",
          "data": {
            "text/plain": [
              "array([16])"
            ]
          },
          "metadata": {},
          "execution_count": 64
        }
      ]
    },
    {
      "cell_type": "code",
      "source": [
        "#class names\n",
        "name = ['Audi.common',\n",
        " 'BMW.common',\n",
        " 'Chevrolet.common',\n",
        " 'Datsun.common',\n",
        " 'Fiat.common',\n",
        " 'Ford.common',\n",
        " 'Honda.common',\n",
        " 'Hyundai.common',\n",
        " 'ISUZU.common',\n",
        " 'Jaguar.frontal',\n",
        " 'Jaguar.rear',\n",
        " 'Jeep.common',\n",
        " 'Kia.common',\n",
        " 'Kia.new',\n",
        " 'MG-Motor.common',\n",
        " 'Mahindra.common',\n",
        " 'Maruti-Suzuki.common',\n",
        " 'Mercedes-Benz.common',\n",
        " 'Mitsubishi.common',\n",
        " 'Nissan.common',\n",
        " 'Renault.common',\n",
        " 'Skoda.common',\n",
        " 'Tata.common',\n",
        " 'Tata.text',\n",
        " 'Toyota.common',\n",
        " 'Volkswagen.common',\n",
        " 'Volvo.frontal',\n",
        " 'unknown']"
      ],
      "metadata": {
        "id": "6UkweuxfMfcw"
      },
      "execution_count": 65,
      "outputs": []
    },
    {
      "cell_type": "code",
      "source": [
        "#Output of the prediction\n",
        "print(\"The predicted image is of\",(name[a[0]]))"
      ],
      "metadata": {
        "colab": {
          "base_uri": "https://localhost:8080/"
        },
        "id": "qI1aP1W4Mm5i",
        "outputId": "a9e16749-0b98-4459-ba8b-0dfda14e5ff1"
      },
      "execution_count": 66,
      "outputs": [
        {
          "output_type": "stream",
          "name": "stdout",
          "text": [
            "The predicted image is of Maruti-Suzuki.common\n"
          ]
        }
      ]
    },
    {
      "cell_type": "code",
      "source": [],
      "metadata": {
        "id": "ZEhTULz1MpXK"
      },
      "execution_count": null,
      "outputs": []
    }
  ]
}
